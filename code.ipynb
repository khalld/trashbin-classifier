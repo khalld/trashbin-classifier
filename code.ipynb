{
  "nbformat": 4,
  "nbformat_minor": 0,
  "metadata": {
    "colab": {
      "name": "code.ipynb",
      "provenance": [],
      "collapsed_sections": [
        "ysTTZWmc4pEy",
        "ucbboMkKFFKj",
        "Cdqh2bV5YFLj",
        "IivAS9cBw0cg"
      ]
    },
    "kernelspec": {
      "display_name": "Python 3",
      "name": "python3"
    },
    "language_info": {
      "name": "python"
    },
    "accelerator": "GPU",
    "widgets": {
      "application/vnd.jupyter.widget-state+json": {
        "0a80b76877314874882f9d14488336f9": {
          "model_module": "@jupyter-widgets/controls",
          "model_name": "HBoxModel",
          "state": {
            "_view_name": "HBoxView",
            "_dom_classes": [],
            "_model_name": "HBoxModel",
            "_view_module": "@jupyter-widgets/controls",
            "_model_module_version": "1.5.0",
            "_view_count": null,
            "_view_module_version": "1.5.0",
            "box_style": "",
            "layout": "IPY_MODEL_a22b50ad28b74284b471b6da0ddd8545",
            "_model_module": "@jupyter-widgets/controls",
            "children": [
              "IPY_MODEL_df008c15541a43c3a3b36e701f071d18",
              "IPY_MODEL_f10b0118aec4443bbfaa1334478acd72"
            ]
          }
        },
        "a22b50ad28b74284b471b6da0ddd8545": {
          "model_module": "@jupyter-widgets/base",
          "model_name": "LayoutModel",
          "state": {
            "_view_name": "LayoutView",
            "grid_template_rows": null,
            "right": null,
            "justify_content": null,
            "_view_module": "@jupyter-widgets/base",
            "overflow": null,
            "_model_module_version": "1.2.0",
            "_view_count": null,
            "flex_flow": null,
            "width": null,
            "min_width": null,
            "border": null,
            "align_items": null,
            "bottom": null,
            "_model_module": "@jupyter-widgets/base",
            "top": null,
            "grid_column": null,
            "overflow_y": null,
            "overflow_x": null,
            "grid_auto_flow": null,
            "grid_area": null,
            "grid_template_columns": null,
            "flex": null,
            "_model_name": "LayoutModel",
            "justify_items": null,
            "grid_row": null,
            "max_height": null,
            "align_content": null,
            "visibility": null,
            "align_self": null,
            "height": null,
            "min_height": null,
            "padding": null,
            "grid_auto_rows": null,
            "grid_gap": null,
            "max_width": null,
            "order": null,
            "_view_module_version": "1.2.0",
            "grid_template_areas": null,
            "object_position": null,
            "object_fit": null,
            "grid_auto_columns": null,
            "margin": null,
            "display": null,
            "left": null
          }
        },
        "df008c15541a43c3a3b36e701f071d18": {
          "model_module": "@jupyter-widgets/controls",
          "model_name": "FloatProgressModel",
          "state": {
            "_view_name": "ProgressView",
            "style": "IPY_MODEL_60e7c58d36fb418ba00518764fdf267b",
            "_dom_classes": [],
            "description": "100%",
            "_model_name": "FloatProgressModel",
            "bar_style": "success",
            "max": 244408911,
            "_view_module": "@jupyter-widgets/controls",
            "_model_module_version": "1.5.0",
            "value": 244408911,
            "_view_count": null,
            "_view_module_version": "1.5.0",
            "orientation": "horizontal",
            "min": 0,
            "description_tooltip": null,
            "_model_module": "@jupyter-widgets/controls",
            "layout": "IPY_MODEL_73ece62ef04c4ee38687ed0073627a44"
          }
        },
        "f10b0118aec4443bbfaa1334478acd72": {
          "model_module": "@jupyter-widgets/controls",
          "model_name": "HTMLModel",
          "state": {
            "_view_name": "HTMLView",
            "style": "IPY_MODEL_79ccb06c795348a5a85007db81c7474d",
            "_dom_classes": [],
            "description": "",
            "_model_name": "HTMLModel",
            "placeholder": "​",
            "_view_module": "@jupyter-widgets/controls",
            "_model_module_version": "1.5.0",
            "value": " 233M/233M [00:38&lt;00:00, 6.32MB/s]",
            "_view_count": null,
            "_view_module_version": "1.5.0",
            "description_tooltip": null,
            "_model_module": "@jupyter-widgets/controls",
            "layout": "IPY_MODEL_e08427acaac041568c41ead0ab0ad656"
          }
        },
        "60e7c58d36fb418ba00518764fdf267b": {
          "model_module": "@jupyter-widgets/controls",
          "model_name": "ProgressStyleModel",
          "state": {
            "_view_name": "StyleView",
            "_model_name": "ProgressStyleModel",
            "description_width": "initial",
            "_view_module": "@jupyter-widgets/base",
            "_model_module_version": "1.5.0",
            "_view_count": null,
            "_view_module_version": "1.2.0",
            "bar_color": null,
            "_model_module": "@jupyter-widgets/controls"
          }
        },
        "73ece62ef04c4ee38687ed0073627a44": {
          "model_module": "@jupyter-widgets/base",
          "model_name": "LayoutModel",
          "state": {
            "_view_name": "LayoutView",
            "grid_template_rows": null,
            "right": null,
            "justify_content": null,
            "_view_module": "@jupyter-widgets/base",
            "overflow": null,
            "_model_module_version": "1.2.0",
            "_view_count": null,
            "flex_flow": null,
            "width": null,
            "min_width": null,
            "border": null,
            "align_items": null,
            "bottom": null,
            "_model_module": "@jupyter-widgets/base",
            "top": null,
            "grid_column": null,
            "overflow_y": null,
            "overflow_x": null,
            "grid_auto_flow": null,
            "grid_area": null,
            "grid_template_columns": null,
            "flex": null,
            "_model_name": "LayoutModel",
            "justify_items": null,
            "grid_row": null,
            "max_height": null,
            "align_content": null,
            "visibility": null,
            "align_self": null,
            "height": null,
            "min_height": null,
            "padding": null,
            "grid_auto_rows": null,
            "grid_gap": null,
            "max_width": null,
            "order": null,
            "_view_module_version": "1.2.0",
            "grid_template_areas": null,
            "object_position": null,
            "object_fit": null,
            "grid_auto_columns": null,
            "margin": null,
            "display": null,
            "left": null
          }
        },
        "79ccb06c795348a5a85007db81c7474d": {
          "model_module": "@jupyter-widgets/controls",
          "model_name": "DescriptionStyleModel",
          "state": {
            "_view_name": "StyleView",
            "_model_name": "DescriptionStyleModel",
            "description_width": "",
            "_view_module": "@jupyter-widgets/base",
            "_model_module_version": "1.5.0",
            "_view_count": null,
            "_view_module_version": "1.2.0",
            "_model_module": "@jupyter-widgets/controls"
          }
        },
        "e08427acaac041568c41ead0ab0ad656": {
          "model_module": "@jupyter-widgets/base",
          "model_name": "LayoutModel",
          "state": {
            "_view_name": "LayoutView",
            "grid_template_rows": null,
            "right": null,
            "justify_content": null,
            "_view_module": "@jupyter-widgets/base",
            "overflow": null,
            "_model_module_version": "1.2.0",
            "_view_count": null,
            "flex_flow": null,
            "width": null,
            "min_width": null,
            "border": null,
            "align_items": null,
            "bottom": null,
            "_model_module": "@jupyter-widgets/base",
            "top": null,
            "grid_column": null,
            "overflow_y": null,
            "overflow_x": null,
            "grid_auto_flow": null,
            "grid_area": null,
            "grid_template_columns": null,
            "flex": null,
            "_model_name": "LayoutModel",
            "justify_items": null,
            "grid_row": null,
            "max_height": null,
            "align_content": null,
            "visibility": null,
            "align_self": null,
            "height": null,
            "min_height": null,
            "padding": null,
            "grid_auto_rows": null,
            "grid_gap": null,
            "max_width": null,
            "order": null,
            "_view_module_version": "1.2.0",
            "grid_template_areas": null,
            "object_position": null,
            "object_fit": null,
            "grid_auto_columns": null,
            "margin": null,
            "display": null,
            "left": null
          }
        }
      }
    }
  },
  "cells": [
    {
      "cell_type": "markdown",
      "metadata": {
        "id": "Wk6rEexobrpf"
      },
      "source": [
        "# Import librerie"
      ]
    },
    {
      "cell_type": "markdown",
      "metadata": {
        "id": "V8fD5jrxb6I9"
      },
      "source": [
        "Mounto google drive"
      ]
    },
    {
      "cell_type": "code",
      "metadata": {
        "colab": {
          "base_uri": "https://localhost:8080/"
        },
        "id": "1WteOQWWZV7J",
        "outputId": "62b1316d-9213-4b36-ccbc-5b07be93fd46"
      },
      "source": [
        "from google.colab import drive\n",
        "import zipfile\n",
        "\n",
        "drive.mount('/content/gdrive')"
      ],
      "execution_count": 1,
      "outputs": [
        {
          "output_type": "stream",
          "text": [
            "Mounted at /content/gdrive\n"
          ],
          "name": "stdout"
        }
      ]
    },
    {
      "cell_type": "markdown",
      "metadata": {
        "id": "ofvPlzHgb9nI"
      },
      "source": [
        "Scarico cartella di git sul google drive `oXqTyi2nWP$GRMy`"
      ]
    },
    {
      "cell_type": "code",
      "metadata": {
        "id": "o1ruqIw0cCxI",
        "colab": {
          "base_uri": "https://localhost:8080/"
        },
        "outputId": "f65c0adb-4fd8-44e4-848d-14a9483347b5"
      },
      "source": [
        "!pip install colab_ssh --upgrade\n",
        "from colab_ssh import init_git\n",
        "githubUrl = 'https://github.com/khalld/trashbin-classifier.git'\n",
        "init_git(githubUrl)"
      ],
      "execution_count": null,
      "outputs": [
        {
          "output_type": "stream",
          "text": [
            "Collecting colab_ssh\n",
            "  Downloading colab_ssh-0.3.17-py3-none-any.whl (21 kB)\n",
            "Installing collected packages: colab-ssh\n",
            "Successfully installed colab-ssh-0.3.17\n",
            "Enter your username: (leave it empty if it's 'None')\n",
            "khalld\n",
            "Enter your password: \n",
            "··········\n",
            "Successfully cloned the repository in ./trashbean-classifier\n"
          ],
          "name": "stdout"
        }
      ]
    },
    {
      "cell_type": "code",
      "metadata": {
        "id": "1NRplKkQcK06"
      },
      "source": [
        "GENERAL_PATHS = {\n",
        "    'main': '/content/gdrive/MyDrive/trashbin-classifier/',\n",
        "    'dataset': '/content/gdrive/MyDrive/trashbin-classifier/dataset/',\n",
        "    'logs': '/content/gdrive/MyDrive/trashbin-classifier/logs/',\n",
        "    'models': '/content/gdrive/MyDrive/trashbin-classifier/logs/models/',\n",
        "    'libs': '/content/trashbin-classifier/libs/'\n",
        "}"
      ],
      "execution_count": null,
      "outputs": []
    },
    {
      "cell_type": "markdown",
      "metadata": {
        "id": "_hm9oKfBgTdp"
      },
      "source": [
        "librerie custom"
      ]
    },
    {
      "cell_type": "code",
      "metadata": {
        "id": "DaV_RrxIuar0"
      },
      "source": [
        "import sys\n",
        "sys.path.insert(0,GENERAL_PATHS['libs'])"
      ],
      "execution_count": null,
      "outputs": []
    },
    {
      "cell_type": "code",
      "metadata": {
        "id": "qDUD6-vxgUYR"
      },
      "source": [
        "# need do import only concreteCreator\n",
        "from TrashbeanDataset import TrashbeanDataset\n",
        "from TDContainer import TDContainer\n",
        "from PretrainedModels import PretrainedModelsCreator, CCAlexNet, CCSqueezeNet, CCVgg16, CCAlexNet_v2\n",
        "from Training import AverageValueMeter, trainval_classifier, test_classifier, accuracy_score\n",
        "from utils import get_model_name, import_dataset, split_train_val_test"
      ],
      "execution_count": null,
      "outputs": []
    },
    {
      "cell_type": "markdown",
      "metadata": {
        "id": "AtfmeTGlgXEO"
      },
      "source": [
        "librerie comuni"
      ]
    },
    {
      "cell_type": "code",
      "metadata": {
        "id": "OjW79ZZMgYS6"
      },
      "source": [
        "import random\n",
        "import numpy as np\n",
        "import pandas as pd\n",
        "from torchvision import transforms\n",
        "from os.path import join\n",
        "from PIL import Image\n",
        "import torch"
      ],
      "execution_count": null,
      "outputs": []
    },
    {
      "cell_type": "code",
      "metadata": {
        "id": "coq8oESEgZ-8"
      },
      "source": [
        "random.seed(1996)\n",
        "np.random.seed(1996)"
      ],
      "execution_count": null,
      "outputs": []
    },
    {
      "cell_type": "markdown",
      "metadata": {
        "id": "OlsmJTU8dDV0"
      },
      "source": [
        "# Creazione ed import del dataset"
      ]
    },
    {
      "cell_type": "markdown",
      "metadata": {
        "id": "m5dm8qVmiBN8"
      },
      "source": [
        "Unzip dell'archivio contente il dataset"
      ]
    },
    {
      "cell_type": "code",
      "metadata": {
        "id": "NSxp4xCMiAZl"
      },
      "source": [
        "!unzip '/content/gdrive/MyDrive/trashbin-classifier/images.zip' -d '/content/gdrive/MyDrive/trashbin-classifier/dataset/'"
      ],
      "execution_count": null,
      "outputs": []
    },
    {
      "cell_type": "code",
      "metadata": {
        "id": "r52cqlDRgwCn",
        "colab": {
          "base_uri": "https://localhost:8080/"
        },
        "outputId": "3c03887f-7755-4c5f-8054-6d35c71d4e5e"
      },
      "source": [
        "dst_txt = np.loadtxt(join(GENERAL_PATHS['dataset'], 'all_labels.txt'), dtype=str, delimiter=',')\n",
        "\n",
        "print( len(dst_txt) , dst_txt.shape, \"filename\", dst_txt[0][0], \"classe\", dst_txt[0][1])"
      ],
      "execution_count": null,
      "outputs": [
        {
          "output_type": "stream",
          "text": [
            "8100 (8100, 2) filename trashbean_0.jpg classe  0\n"
          ],
          "name": "stdout"
        }
      ]
    },
    {
      "cell_type": "code",
      "metadata": {
        "id": "q_u3cUJ2u0YA"
      },
      "source": [
        "images = []\n",
        "labels = []\n",
        "\n",
        "for i in range(len(dst_txt)):\n",
        "  images.append(join(GENERAL_PATHS['dataset'], 'images/') + dst_txt[i][0])  # immagine\n",
        "  labels.append(dst_txt[i][1])  # classe di appartenenza  \n",
        "  \n",
        "dst_df = pd.DataFrame({'image': images, 'label': labels}) # assegno un dataframe per ogni tipo di training"
      ],
      "execution_count": null,
      "outputs": []
    },
    {
      "cell_type": "markdown",
      "metadata": {
        "id": "atFTlKn1wSU0"
      },
      "source": [
        "testo il corretto caricamento"
      ]
    },
    {
      "cell_type": "code",
      "metadata": {
        "id": "1bmnO34VwEj3"
      },
      "source": [
        "print(dst_df['label'][788])\n",
        "Image.open(dst_df['image'][788])"
      ],
      "execution_count": null,
      "outputs": []
    },
    {
      "cell_type": "code",
      "metadata": {
        "colab": {
          "base_uri": "https://localhost:8080/",
          "height": 204
        },
        "id": "rrk-KpY2yXs-",
        "outputId": "633a80ba-37dd-4414-ec44-2744ddfcb542"
      },
      "source": [
        "dst_df.head()"
      ],
      "execution_count": null,
      "outputs": [
        {
          "output_type": "execute_result",
          "data": {
            "text/html": [
              "<div>\n",
              "<style scoped>\n",
              "    .dataframe tbody tr th:only-of-type {\n",
              "        vertical-align: middle;\n",
              "    }\n",
              "\n",
              "    .dataframe tbody tr th {\n",
              "        vertical-align: top;\n",
              "    }\n",
              "\n",
              "    .dataframe thead th {\n",
              "        text-align: right;\n",
              "    }\n",
              "</style>\n",
              "<table border=\"1\" class=\"dataframe\">\n",
              "  <thead>\n",
              "    <tr style=\"text-align: right;\">\n",
              "      <th></th>\n",
              "      <th>image</th>\n",
              "      <th>label</th>\n",
              "    </tr>\n",
              "  </thead>\n",
              "  <tbody>\n",
              "    <tr>\n",
              "      <th>0</th>\n",
              "      <td>/content/gdrive/MyDrive/trashbean-classifier/d...</td>\n",
              "      <td>0</td>\n",
              "    </tr>\n",
              "    <tr>\n",
              "      <th>1</th>\n",
              "      <td>/content/gdrive/MyDrive/trashbean-classifier/d...</td>\n",
              "      <td>0</td>\n",
              "    </tr>\n",
              "    <tr>\n",
              "      <th>2</th>\n",
              "      <td>/content/gdrive/MyDrive/trashbean-classifier/d...</td>\n",
              "      <td>0</td>\n",
              "    </tr>\n",
              "    <tr>\n",
              "      <th>3</th>\n",
              "      <td>/content/gdrive/MyDrive/trashbean-classifier/d...</td>\n",
              "      <td>0</td>\n",
              "    </tr>\n",
              "    <tr>\n",
              "      <th>4</th>\n",
              "      <td>/content/gdrive/MyDrive/trashbean-classifier/d...</td>\n",
              "      <td>0</td>\n",
              "    </tr>\n",
              "  </tbody>\n",
              "</table>\n",
              "</div>"
            ],
            "text/plain": [
              "                                               image label\n",
              "0  /content/gdrive/MyDrive/trashbean-classifier/d...     0\n",
              "1  /content/gdrive/MyDrive/trashbean-classifier/d...     0\n",
              "2  /content/gdrive/MyDrive/trashbean-classifier/d...     0\n",
              "3  /content/gdrive/MyDrive/trashbean-classifier/d...     0\n",
              "4  /content/gdrive/MyDrive/trashbean-classifier/d...     0"
            ]
          },
          "metadata": {
            "tags": []
          },
          "execution_count": 24
        }
      ]
    },
    {
      "cell_type": "code",
      "metadata": {
        "id": "t69-aKYhzVq9"
      },
      "source": [
        "training_df, validation_df, test_df = split_train_val_test(dst_df)"
      ],
      "execution_count": null,
      "outputs": []
    },
    {
      "cell_type": "markdown",
      "metadata": {
        "id": "krT1aNQG3jYp"
      },
      "source": [
        "Mi assicuro che la distribuzione delle classi sia equa"
      ]
    },
    {
      "cell_type": "code",
      "metadata": {
        "colab": {
          "base_uri": "https://localhost:8080/"
        },
        "id": "T3Z5ZEvC3E0-",
        "outputId": "4352175e-66ba-42c2-ee3b-15e52fbeb2f2"
      },
      "source": [
        "training_df['label'].value_counts()"
      ],
      "execution_count": null,
      "outputs": [
        {
          "output_type": "execute_result",
          "data": {
            "text/plain": [
              " 1    1636\n",
              " 0    1622\n",
              " 2    1602\n",
              "Name: label, dtype: int64"
            ]
          },
          "metadata": {
            "tags": []
          },
          "execution_count": 75
        }
      ]
    },
    {
      "cell_type": "code",
      "metadata": {
        "colab": {
          "base_uri": "https://localhost:8080/"
        },
        "id": "U-dIc-Pq3KK5",
        "outputId": "4170e373-0f7a-40b5-ccd9-a04c0f8606b2"
      },
      "source": [
        "validation_df['label'].value_counts()"
      ],
      "execution_count": null,
      "outputs": [
        {
          "output_type": "execute_result",
          "data": {
            "text/plain": [
              " 2    279\n",
              " 0    272\n",
              " 1    259\n",
              "Name: label, dtype: int64"
            ]
          },
          "metadata": {
            "tags": []
          },
          "execution_count": 76
        }
      ]
    },
    {
      "cell_type": "code",
      "metadata": {
        "colab": {
          "base_uri": "https://localhost:8080/"
        },
        "id": "rx36RCmA3Nzk",
        "outputId": "572a9eb6-6c12-4953-aa9a-90020e98cafb"
      },
      "source": [
        "test_df['label'].value_counts()"
      ],
      "execution_count": null,
      "outputs": [
        {
          "output_type": "execute_result",
          "data": {
            "text/plain": [
              " 2    819\n",
              " 0    806\n",
              " 1    805\n",
              "Name: label, dtype: int64"
            ]
          },
          "metadata": {
            "tags": []
          },
          "execution_count": 77
        }
      ]
    },
    {
      "cell_type": "markdown",
      "metadata": {
        "id": "N5vbOEys3wJP"
      },
      "source": [
        "Salvo data frame su csv per riutilizzo"
      ]
    },
    {
      "cell_type": "code",
      "metadata": {
        "id": "3geyNJL931Cn"
      },
      "source": [
        "training_df.to_csv(join(GENERAL_PATHS['dataset'], 'training.csv'), index=None)\n",
        "validation_df.to_csv(join(GENERAL_PATHS['dataset'], 'validation.csv'), index=None)\n",
        "test_df.to_csv(join(GENERAL_PATHS['dataset'], 'test.csv'), index=None)"
      ],
      "execution_count": null,
      "outputs": []
    },
    {
      "cell_type": "code",
      "metadata": {
        "id": "9SQfCxBh6erf"
      },
      "source": [
        "dst_df.to_csv(join(GENERAL_PATHS['dataset'], 'all_dataset.csv'), index=None)"
      ],
      "execution_count": null,
      "outputs": []
    },
    {
      "cell_type": "markdown",
      "metadata": {
        "id": "NZxOq-kq4Ql-"
      },
      "source": [
        "Salvo corrispondenza tra classi in un altro CSV"
      ]
    },
    {
      "cell_type": "code",
      "metadata": {
        "id": "iATtU2AQ4TOT"
      },
      "source": [
        "ids, classes = zip(*{\n",
        "    0: \"empty\",\n",
        "    1: \"half\",\n",
        "    2: \"full\"\n",
        "}.items())\n",
        "ids = pd.DataFrame({'id':ids, 'class':classes}).set_index('id')\n",
        "ids.to_csv(join(GENERAL_PATHS['dataset'], 'classes.csv'))"
      ],
      "execution_count": null,
      "outputs": []
    },
    {
      "cell_type": "markdown",
      "metadata": {
        "id": "ysTTZWmc4pEy"
      },
      "source": [
        "# Calcolo media e deviazione standard"
      ]
    },
    {
      "cell_type": "code",
      "metadata": {
        "id": "2QNde3LS6Rwn"
      },
      "source": [
        "trashbean_dst_all = TrashbeanDataset(join(GENERAL_PATHS['dataset'], 'all_dataset.csv'))"
      ],
      "execution_count": null,
      "outputs": []
    },
    {
      "cell_type": "code",
      "metadata": {
        "colab": {
          "base_uri": "https://localhost:8080/"
        },
        "id": "gdYKA8lI60Ws",
        "outputId": "34c25685-d76b-40c3-c7a8-401b232d33cf"
      },
      "source": [
        "trashbean_dst_all.__len__()"
      ],
      "execution_count": null,
      "outputs": [
        {
          "output_type": "execute_result",
          "data": {
            "text/plain": [
              "8100"
            ]
          },
          "metadata": {
            "tags": []
          },
          "execution_count": 91
        }
      ]
    },
    {
      "cell_type": "markdown",
      "metadata": {
        "id": "mjIWr_YJlMCy"
      },
      "source": [
        "Calcolo media e deviazione standard"
      ]
    },
    {
      "cell_type": "code",
      "metadata": {
        "id": "tXuYoL6bln4M",
        "colab": {
          "base_uri": "https://localhost:8080/"
        },
        "outputId": "5256f37b-0643-468f-cdf6-3cd3e0b10110"
      },
      "source": [
        "means = np.zeros(3)\n",
        "stdevs = np.zeros(3)\n",
        "\n",
        "for data in trashbean_dst_all:\n",
        "  img = data[0]\n",
        "  for i in range(3):\n",
        "    img = np.asarray(img)\n",
        "    means[i] += img[i, :, :].mean()\n",
        "    stdevs[i] += img[i, :, :].std()\n",
        "\n",
        "means = np.asarray(means) / trashbean_dst_all.__len__()\n",
        "stdevs = np.asarray(stdevs) / trashbean_dst_all.__len__()\n",
        "print(\"{} : normMean = {}\".format(type, means))\n",
        "print(\"{} : normstdevs = {}\".format(type, stdevs))"
      ],
      "execution_count": null,
      "outputs": [
        {
          "output_type": "stream",
          "text": [
            "<class 'type'> : normMean = [127.78855176 127.801383   127.83543153]\n",
            "<class 'type'> : normstdevs = [36.59095841 36.41266886 36.47179106]\n"
          ],
          "name": "stdout"
        }
      ]
    },
    {
      "cell_type": "markdown",
      "metadata": {
        "id": "hYJRxRkmH19w"
      },
      "source": [
        "valori di output\n",
        "\n",
        "normMean = [127.78855176 127.801383   127.83543153]\n",
        "\n",
        "normstdevs = [36.59095841 36.41266886 36.47179106]"
      ]
    },
    {
      "cell_type": "markdown",
      "metadata": {
        "id": "ucbboMkKFFKj"
      },
      "source": [
        "# Loading dataset"
      ]
    },
    {
      "cell_type": "code",
      "metadata": {
        "id": "M2m9o6ELHTMU"
      },
      "source": [
        "mean_pretrained = [0.485, 0.456, 0.406]\n",
        "std_pretrained = [0.229, 0.224, 0.225]\n",
        "\n",
        "train_transform = transforms.Compose([\n",
        "    transforms.Resize(256),\n",
        "    transforms.RandomCrop(224),\n",
        "    ##transforms.RandomResizedCrop(size=256, scale=(0.8, 1.0)),\n",
        "    transforms.RandomRotation(degrees=15),\n",
        "    transforms.ColorJitter(),\n",
        "    transforms.RandomHorizontalFlip(),\n",
        "    transforms.RandomPerspective(p=0.3),\n",
        "    transforms.ToTensor(),\n",
        "    transforms.Normalize(mean_pretrained, std_pretrained)\n",
        "    ])\n",
        "\n",
        "test_transform = transforms.Compose([\n",
        "    transforms.Resize(256), \n",
        "    transforms.CenterCrop(224), # crop centrale\n",
        "    transforms.RandomHorizontalFlip(),\n",
        "    transforms.ToTensor(),\n",
        "    transforms.Normalize(mean_pretrained, std_pretrained)\n",
        "    ])"
      ],
      "execution_count": null,
      "outputs": []
    },
    {
      "cell_type": "code",
      "metadata": {
        "id": "QCpCSm12HOa8"
      },
      "source": [
        "trashbin_dataset = import_dataset(GENERAL_PATHS['dataset'], train_transform=train_transform, test_transform=test_transform)\n",
        "\n",
        "# solo per visualizzare il batch, non necessario perché sarà re-instanziato sotto\n",
        "# trashbin_dataset.create_data_loader(batch_size=64, num_workers=2)\n",
        "# for sample in trashbin_dataset.training:\n",
        "#   print(\"image %s label %d\" % (sample[0].shape, sample[1]) )\n",
        "#   break"
      ],
      "execution_count": null,
      "outputs": []
    },
    {
      "cell_type": "markdown",
      "metadata": {
        "id": "jsRiUdDJihIN"
      },
      "source": [
        "# Test su modelli pretrained con finetuning"
      ]
    },
    {
      "cell_type": "code",
      "metadata": {
        "id": "ZF4iM1CuKFlz"
      },
      "source": [
        "def do_training(creator: PretrainedModelsCreator,\n",
        "                dataset: TDContainer,\n",
        "                output_class: int,\n",
        "                model_name: str,\n",
        "                batch_size: int,\n",
        "                num_workers: int,\n",
        "                drop_last: bool,\n",
        "                lr: float,\n",
        "                epochs: int,\n",
        "               ) -> None:\n",
        "  \n",
        "  print('Instantiating %s' % (model_name))\n",
        "  creator.initialize_dst(dataset, output_class, batch_size=batch_size, num_workers=num_workers, drop_last=drop_last)\n",
        "\n",
        "  print('*** Starting procedure ***')\n",
        "  model_finetuned = trainval_classifier(model=creator.model, dst_container=dataset, model_name=model_name,\n",
        "                                        lr=lr, epochs=epochs,\n",
        "                                        logdir=GENERAL_PATHS['logs'], model_dir=GENERAL_PATHS['models'], save_each_iter=5)\n",
        "  print(\"**** Start to calculate accuracy ...\")\n",
        "  model_finetuned_predictions_test, dataset_labels_test = test_classifier(model_finetuned, dataset.test_loader)\n",
        "  print(\"**** Accuracy of %s %0.2f%%\" % (model_name, accuracy_score(dataset_labels_test, model_finetuned_predictions_test)*100) )"
      ],
      "execution_count": null,
      "outputs": []
    },
    {
      "cell_type": "markdown",
      "metadata": {
        "id": "Cdqh2bV5YFLj"
      },
      "source": [
        "## Test 1"
      ]
    },
    {
      "cell_type": "markdown",
      "metadata": {
        "id": "g3Wv_R0iiSv3"
      },
      "source": [
        "Test VGG16"
      ]
    },
    {
      "cell_type": "code",
      "metadata": {
        "id": "Om6HSLvyKPmg"
      },
      "source": [
        "do_training(creator=CCVgg16(),\n",
        "            dataset=trashbin_dataset,\n",
        "            output_class=3,\n",
        "            model_name=get_model_name(\"CCVgg16\", \"lr=0.001\"),\n",
        "            batch_size=64,\n",
        "            num_workers=2,\n",
        "            drop_last=False,\n",
        "            lr=0.001,\n",
        "            epochs=50\n",
        "            )"
      ],
      "execution_count": null,
      "outputs": []
    },
    {
      "cell_type": "markdown",
      "metadata": {
        "id": "XcOXcHZWYA7D"
      },
      "source": [
        "Inserisci i log"
      ]
    },
    {
      "cell_type": "markdown",
      "metadata": {
        "id": "FBrHt20-iU6r"
      },
      "source": [
        "Test AlexNet"
      ]
    },
    {
      "cell_type": "code",
      "metadata": {
        "id": "pqEc8-tfiV54"
      },
      "source": [
        "do_training(creator=CCAlexNet(),\n",
        "            dataset=trashbin_dataset,\n",
        "            output_class=3,\n",
        "            model_name=get_model_name(\"CCAlexNet\", \"lr=0.001\"),\n",
        "            batch_size=64,\n",
        "            num_workers=2,\n",
        "            drop_last=False,\n",
        "            lr=0.001,\n",
        "            epochs=50\n",
        "            )"
      ],
      "execution_count": null,
      "outputs": []
    },
    {
      "cell_type": "markdown",
      "metadata": {
        "id": "5Ayz8lZ5YCNs"
      },
      "source": [
        "Inserisci i log"
      ]
    },
    {
      "cell_type": "markdown",
      "metadata": {
        "id": "IivAS9cBw0cg"
      },
      "source": [
        "## test 2"
      ]
    },
    {
      "cell_type": "markdown",
      "metadata": {
        "id": "h286qObXJ1vj"
      },
      "source": [
        "ulteriore prova per vedere se il modello va bene, e non va bene!"
      ]
    },
    {
      "cell_type": "code",
      "metadata": {
        "id": "w01BXSOwL3hU"
      },
      "source": [
        "mean_pretrained = [0.485, 0.456, 0.406]\n",
        "std_pretrained = [0.229, 0.224, 0.225]\n",
        "\n",
        "train_transform_2 = transforms.Compose([\n",
        "    transforms.Resize(256),\n",
        "    ## transforms.ColorJitter(brightness=0.4, contrast=0.4, saturation=0.4, hue=0.2),\n",
        "    ## transforms.RandomApply(torch.nn.ModuleList([\n",
        "    ##   transforms.RandomInvert(),\n",
        "    ## ]), p=0.3)\n",
        "    ## transforms.RandomApply(torch.nn.ModuleList([\n",
        "    ##   transforms.RandomPosterize(),\n",
        "    ## ]), p=0.3)\n",
        "\n",
        "    transforms.AutoAugment(transforms.AutoAugmentPolicy.CIFAR10),\n",
        "    transforms.RandomCrop(224),\n",
        "\n",
        "    transforms.RandomHorizontalFlip(p=0.4),\n",
        "    transforms.RandomPerspective(p=0.3),\n",
        "    transforms.RandomVerticalFlip(p=0.4),\n",
        "\n",
        "    transforms.ToTensor(),\n",
        "    transforms.Normalize(mean_pretrained, std_pretrained)\n",
        "])\n",
        "\n",
        "test_transform_2 = transforms.Compose([\n",
        "    transforms.Resize(256), \n",
        "    transforms.CenterCrop(224), # crop centrale\n",
        "\n",
        "    transforms.AutoAugment(transforms.AutoAugmentPolicy.IMAGENET),\n",
        "    transforms.RandomHorizontalFlip(),\n",
        "\n",
        "\n",
        "    transforms.ToTensor(),\n",
        "    transforms.Normalize(mean_pretrained, std_pretrained)\n",
        "    ])"
      ],
      "execution_count": null,
      "outputs": []
    },
    {
      "cell_type": "code",
      "metadata": {
        "id": "FzcjBAed5LEa"
      },
      "source": [
        "trashbin_dataset = import_dataset(GENERAL_PATHS['dataset'], train_transform=train_transform_2, test_transform=test_transform_2)"
      ],
      "execution_count": null,
      "outputs": []
    },
    {
      "cell_type": "code",
      "metadata": {
        "colab": {
          "base_uri": "https://localhost:8080/",
          "height": 1000,
          "referenced_widgets": [
            "0a80b76877314874882f9d14488336f9",
            "a22b50ad28b74284b471b6da0ddd8545",
            "df008c15541a43c3a3b36e701f071d18",
            "f10b0118aec4443bbfaa1334478acd72",
            "60e7c58d36fb418ba00518764fdf267b",
            "73ece62ef04c4ee38687ed0073627a44",
            "79ccb06c795348a5a85007db81c7474d",
            "e08427acaac041568c41ead0ab0ad656"
          ]
        },
        "id": "Ae11nt9p5RdE",
        "outputId": "8f59fa78-fa80-4e37-b244-e401add0bf9c"
      },
      "source": [
        "do_training(creator=CCAlexNet_v2(),\n",
        "            dataset=trashbin_dataset,\n",
        "            output_class=3,\n",
        "            model_name=get_model_name(\"CCAlexNet_v2\", \"lr=0.001\"),\n",
        "            batch_size=64,\n",
        "            num_workers=2,\n",
        "            drop_last=False,\n",
        "            lr=0.001,\n",
        "            epochs=10\n",
        "            )"
      ],
      "execution_count": null,
      "outputs": [
        {
          "output_type": "stream",
          "text": [
            "Instantiating CCAlexNet_v2_lr=0.001\n"
          ],
          "name": "stdout"
        },
        {
          "output_type": "stream",
          "text": [
            "Downloading: \"https://download.pytorch.org/models/alexnet-owt-7be5be79.pth\" to /root/.cache/torch/hub/checkpoints/alexnet-owt-7be5be79.pth\n"
          ],
          "name": "stderr"
        },
        {
          "output_type": "display_data",
          "data": {
            "application/vnd.jupyter.widget-view+json": {
              "model_id": "0a80b76877314874882f9d14488336f9",
              "version_minor": 0,
              "version_major": 2
            },
            "text/plain": [
              "HBox(children=(FloatProgress(value=0.0, max=244408911.0), HTML(value='')))"
            ]
          },
          "metadata": {
            "tags": []
          }
        },
        {
          "output_type": "stream",
          "text": [
            "\n",
            "*** Starting procedure ***\n",
            "Computed: 1/10"
          ],
          "name": "stdout"
        },
        {
          "output_type": "stream",
          "text": [
            "/usr/local/lib/python3.7/dist-packages/torchvision/transforms/functional.py:594: UserWarning: torch.lstsq is deprecated in favor of torch.linalg.lstsq and will be removed in a future PyTorch release.\n",
            "torch.linalg.lstsq has reversed arguments and does not return the QR decomposition in the returned tuple (although it returns other information about the problem).\n",
            "To get the qr decomposition consider using torch.linalg.qr.\n",
            "The returned solution in torch.lstsq stored the residuals of the solution in the last m - n columns of the returned value whenever m > n. In torch.linalg.lstsq, the residuals in the field 'residuals' of the returned named tuple.\n",
            "The unpacking of the solution, as in\n",
            "X, _ = torch.lstsq(B, A).solution[:A.size(1)]\n",
            "should be replaced with\n",
            "X = torch.linalg.lstsq(A, B).solution (Triggered internally at  /pytorch/aten/src/ATen/LegacyTHFunctionsCPU.cpp:389.)\n",
            "  res = torch.lstsq(b_matrix, a_matrix)[0]\n",
            "/usr/local/lib/python3.7/dist-packages/torchvision/transforms/functional.py:594: UserWarning: torch.lstsq is deprecated in favor of torch.linalg.lstsq and will be removed in a future PyTorch release.\n",
            "torch.linalg.lstsq has reversed arguments and does not return the QR decomposition in the returned tuple (although it returns other information about the problem).\n",
            "To get the qr decomposition consider using torch.linalg.qr.\n",
            "The returned solution in torch.lstsq stored the residuals of the solution in the last m - n columns of the returned value whenever m > n. In torch.linalg.lstsq, the residuals in the field 'residuals' of the returned named tuple.\n",
            "The unpacking of the solution, as in\n",
            "X, _ = torch.lstsq(B, A).solution[:A.size(1)]\n",
            "should be replaced with\n",
            "X = torch.linalg.lstsq(A, B).solution (Triggered internally at  /pytorch/aten/src/ATen/LegacyTHFunctionsCPU.cpp:389.)\n",
            "  res = torch.lstsq(b_matrix, a_matrix)[0]\n",
            "/usr/local/lib/python3.7/dist-packages/torch/nn/functional.py:718: UserWarning: Named tensors and all their associated APIs are an experimental feature and subject to change. Please do not use them for anything important until they are released as stable. (Triggered internally at  /pytorch/c10/core/TensorImpl.h:1156.)\n",
            "  return torch.max_pool2d(input, kernel_size, stride, padding, dilation, ceil_mode)\n"
          ],
          "name": "stderr"
        },
        {
          "output_type": "stream",
          "text": [
            "\n",
            "\n",
            " Epoch: 1 loss:  0.25741435017114805  accuracy:  0.8962962962962963\n",
            "\rComputed: 2/10"
          ],
          "name": "stdout"
        },
        {
          "output_type": "stream",
          "text": [
            "/usr/local/lib/python3.7/dist-packages/torchvision/transforms/functional.py:594: UserWarning: torch.lstsq is deprecated in favor of torch.linalg.lstsq and will be removed in a future PyTorch release.\n",
            "torch.linalg.lstsq has reversed arguments and does not return the QR decomposition in the returned tuple (although it returns other information about the problem).\n",
            "To get the qr decomposition consider using torch.linalg.qr.\n",
            "The returned solution in torch.lstsq stored the residuals of the solution in the last m - n columns of the returned value whenever m > n. In torch.linalg.lstsq, the residuals in the field 'residuals' of the returned named tuple.\n",
            "The unpacking of the solution, as in\n",
            "X, _ = torch.lstsq(B, A).solution[:A.size(1)]\n",
            "should be replaced with\n",
            "X = torch.linalg.lstsq(A, B).solution (Triggered internally at  /pytorch/aten/src/ATen/LegacyTHFunctionsCPU.cpp:389.)\n",
            "  res = torch.lstsq(b_matrix, a_matrix)[0]\n",
            "/usr/local/lib/python3.7/dist-packages/torchvision/transforms/functional.py:594: UserWarning: torch.lstsq is deprecated in favor of torch.linalg.lstsq and will be removed in a future PyTorch release.\n",
            "torch.linalg.lstsq has reversed arguments and does not return the QR decomposition in the returned tuple (although it returns other information about the problem).\n",
            "To get the qr decomposition consider using torch.linalg.qr.\n",
            "The returned solution in torch.lstsq stored the residuals of the solution in the last m - n columns of the returned value whenever m > n. In torch.linalg.lstsq, the residuals in the field 'residuals' of the returned named tuple.\n",
            "The unpacking of the solution, as in\n",
            "X, _ = torch.lstsq(B, A).solution[:A.size(1)]\n",
            "should be replaced with\n",
            "X = torch.linalg.lstsq(A, B).solution (Triggered internally at  /pytorch/aten/src/ATen/LegacyTHFunctionsCPU.cpp:389.)\n",
            "  res = torch.lstsq(b_matrix, a_matrix)[0]\n"
          ],
          "name": "stderr"
        },
        {
          "output_type": "stream",
          "text": [
            "\n",
            "\n",
            " Epoch: 2 loss:  0.18879722544440516  accuracy:  0.917283950617284\n",
            "\rComputed: 3/10"
          ],
          "name": "stdout"
        },
        {
          "output_type": "stream",
          "text": [
            "/usr/local/lib/python3.7/dist-packages/torchvision/transforms/functional.py:594: UserWarning: torch.lstsq is deprecated in favor of torch.linalg.lstsq and will be removed in a future PyTorch release.\n",
            "torch.linalg.lstsq has reversed arguments and does not return the QR decomposition in the returned tuple (although it returns other information about the problem).\n",
            "To get the qr decomposition consider using torch.linalg.qr.\n",
            "The returned solution in torch.lstsq stored the residuals of the solution in the last m - n columns of the returned value whenever m > n. In torch.linalg.lstsq, the residuals in the field 'residuals' of the returned named tuple.\n",
            "The unpacking of the solution, as in\n",
            "X, _ = torch.lstsq(B, A).solution[:A.size(1)]\n",
            "should be replaced with\n",
            "X = torch.linalg.lstsq(A, B).solution (Triggered internally at  /pytorch/aten/src/ATen/LegacyTHFunctionsCPU.cpp:389.)\n",
            "  res = torch.lstsq(b_matrix, a_matrix)[0]\n",
            "/usr/local/lib/python3.7/dist-packages/torchvision/transforms/functional.py:594: UserWarning: torch.lstsq is deprecated in favor of torch.linalg.lstsq and will be removed in a future PyTorch release.\n",
            "torch.linalg.lstsq has reversed arguments and does not return the QR decomposition in the returned tuple (although it returns other information about the problem).\n",
            "To get the qr decomposition consider using torch.linalg.qr.\n",
            "The returned solution in torch.lstsq stored the residuals of the solution in the last m - n columns of the returned value whenever m > n. In torch.linalg.lstsq, the residuals in the field 'residuals' of the returned named tuple.\n",
            "The unpacking of the solution, as in\n",
            "X, _ = torch.lstsq(B, A).solution[:A.size(1)]\n",
            "should be replaced with\n",
            "X = torch.linalg.lstsq(A, B).solution (Triggered internally at  /pytorch/aten/src/ATen/LegacyTHFunctionsCPU.cpp:389.)\n",
            "  res = torch.lstsq(b_matrix, a_matrix)[0]\n"
          ],
          "name": "stderr"
        },
        {
          "output_type": "stream",
          "text": [
            "\n",
            "\n",
            " Epoch: 3 loss:  0.13965427336501487  accuracy:  0.945679012345679\n",
            "\rComputed: 4/10"
          ],
          "name": "stdout"
        },
        {
          "output_type": "stream",
          "text": [
            "/usr/local/lib/python3.7/dist-packages/torchvision/transforms/functional.py:594: UserWarning: torch.lstsq is deprecated in favor of torch.linalg.lstsq and will be removed in a future PyTorch release.\n",
            "torch.linalg.lstsq has reversed arguments and does not return the QR decomposition in the returned tuple (although it returns other information about the problem).\n",
            "To get the qr decomposition consider using torch.linalg.qr.\n",
            "The returned solution in torch.lstsq stored the residuals of the solution in the last m - n columns of the returned value whenever m > n. In torch.linalg.lstsq, the residuals in the field 'residuals' of the returned named tuple.\n",
            "The unpacking of the solution, as in\n",
            "X, _ = torch.lstsq(B, A).solution[:A.size(1)]\n",
            "should be replaced with\n",
            "X = torch.linalg.lstsq(A, B).solution (Triggered internally at  /pytorch/aten/src/ATen/LegacyTHFunctionsCPU.cpp:389.)\n",
            "  res = torch.lstsq(b_matrix, a_matrix)[0]\n",
            "/usr/local/lib/python3.7/dist-packages/torchvision/transforms/functional.py:594: UserWarning: torch.lstsq is deprecated in favor of torch.linalg.lstsq and will be removed in a future PyTorch release.\n",
            "torch.linalg.lstsq has reversed arguments and does not return the QR decomposition in the returned tuple (although it returns other information about the problem).\n",
            "To get the qr decomposition consider using torch.linalg.qr.\n",
            "The returned solution in torch.lstsq stored the residuals of the solution in the last m - n columns of the returned value whenever m > n. In torch.linalg.lstsq, the residuals in the field 'residuals' of the returned named tuple.\n",
            "The unpacking of the solution, as in\n",
            "X, _ = torch.lstsq(B, A).solution[:A.size(1)]\n",
            "should be replaced with\n",
            "X = torch.linalg.lstsq(A, B).solution (Triggered internally at  /pytorch/aten/src/ATen/LegacyTHFunctionsCPU.cpp:389.)\n",
            "  res = torch.lstsq(b_matrix, a_matrix)[0]\n"
          ],
          "name": "stderr"
        },
        {
          "output_type": "stream",
          "text": [
            "\n",
            "\n",
            " Epoch: 4 loss:  0.16315596258198772  accuracy:  0.9407407407407408\n",
            "\rComputed: 5/10"
          ],
          "name": "stdout"
        },
        {
          "output_type": "stream",
          "text": [
            "/usr/local/lib/python3.7/dist-packages/torchvision/transforms/functional.py:594: UserWarning: torch.lstsq is deprecated in favor of torch.linalg.lstsq and will be removed in a future PyTorch release.\n",
            "torch.linalg.lstsq has reversed arguments and does not return the QR decomposition in the returned tuple (although it returns other information about the problem).\n",
            "To get the qr decomposition consider using torch.linalg.qr.\n",
            "The returned solution in torch.lstsq stored the residuals of the solution in the last m - n columns of the returned value whenever m > n. In torch.linalg.lstsq, the residuals in the field 'residuals' of the returned named tuple.\n",
            "The unpacking of the solution, as in\n",
            "X, _ = torch.lstsq(B, A).solution[:A.size(1)]\n",
            "should be replaced with\n",
            "X = torch.linalg.lstsq(A, B).solution (Triggered internally at  /pytorch/aten/src/ATen/LegacyTHFunctionsCPU.cpp:389.)\n",
            "  res = torch.lstsq(b_matrix, a_matrix)[0]\n",
            "/usr/local/lib/python3.7/dist-packages/torchvision/transforms/functional.py:594: UserWarning: torch.lstsq is deprecated in favor of torch.linalg.lstsq and will be removed in a future PyTorch release.\n",
            "torch.linalg.lstsq has reversed arguments and does not return the QR decomposition in the returned tuple (although it returns other information about the problem).\n",
            "To get the qr decomposition consider using torch.linalg.qr.\n",
            "The returned solution in torch.lstsq stored the residuals of the solution in the last m - n columns of the returned value whenever m > n. In torch.linalg.lstsq, the residuals in the field 'residuals' of the returned named tuple.\n",
            "The unpacking of the solution, as in\n",
            "X, _ = torch.lstsq(B, A).solution[:A.size(1)]\n",
            "should be replaced with\n",
            "X = torch.linalg.lstsq(A, B).solution (Triggered internally at  /pytorch/aten/src/ATen/LegacyTHFunctionsCPU.cpp:389.)\n",
            "  res = torch.lstsq(b_matrix, a_matrix)[0]\n"
          ],
          "name": "stderr"
        },
        {
          "output_type": "stream",
          "text": [
            "\n",
            "\n",
            " Epoch: 5 loss:  0.130449781704832  accuracy:  0.9432098765432099\n",
            "Computed: 6/10"
          ],
          "name": "stdout"
        },
        {
          "output_type": "stream",
          "text": [
            "/usr/local/lib/python3.7/dist-packages/torchvision/transforms/functional.py:594: UserWarning: torch.lstsq is deprecated in favor of torch.linalg.lstsq and will be removed in a future PyTorch release.\n",
            "torch.linalg.lstsq has reversed arguments and does not return the QR decomposition in the returned tuple (although it returns other information about the problem).\n",
            "To get the qr decomposition consider using torch.linalg.qr.\n",
            "The returned solution in torch.lstsq stored the residuals of the solution in the last m - n columns of the returned value whenever m > n. In torch.linalg.lstsq, the residuals in the field 'residuals' of the returned named tuple.\n",
            "The unpacking of the solution, as in\n",
            "X, _ = torch.lstsq(B, A).solution[:A.size(1)]\n",
            "should be replaced with\n",
            "X = torch.linalg.lstsq(A, B).solution (Triggered internally at  /pytorch/aten/src/ATen/LegacyTHFunctionsCPU.cpp:389.)\n",
            "  res = torch.lstsq(b_matrix, a_matrix)[0]\n",
            "/usr/local/lib/python3.7/dist-packages/torchvision/transforms/functional.py:594: UserWarning: torch.lstsq is deprecated in favor of torch.linalg.lstsq and will be removed in a future PyTorch release.\n",
            "torch.linalg.lstsq has reversed arguments and does not return the QR decomposition in the returned tuple (although it returns other information about the problem).\n",
            "To get the qr decomposition consider using torch.linalg.qr.\n",
            "The returned solution in torch.lstsq stored the residuals of the solution in the last m - n columns of the returned value whenever m > n. In torch.linalg.lstsq, the residuals in the field 'residuals' of the returned named tuple.\n",
            "The unpacking of the solution, as in\n",
            "X, _ = torch.lstsq(B, A).solution[:A.size(1)]\n",
            "should be replaced with\n",
            "X = torch.linalg.lstsq(A, B).solution (Triggered internally at  /pytorch/aten/src/ATen/LegacyTHFunctionsCPU.cpp:389.)\n",
            "  res = torch.lstsq(b_matrix, a_matrix)[0]\n"
          ],
          "name": "stderr"
        },
        {
          "output_type": "stream",
          "text": [
            "\n",
            "\n",
            " Epoch: 6 loss:  0.11017434889519656  accuracy:  0.9604938271604938\n",
            "\rComputed: 7/10"
          ],
          "name": "stdout"
        },
        {
          "output_type": "stream",
          "text": [
            "/usr/local/lib/python3.7/dist-packages/torchvision/transforms/functional.py:594: UserWarning: torch.lstsq is deprecated in favor of torch.linalg.lstsq and will be removed in a future PyTorch release.\n",
            "torch.linalg.lstsq has reversed arguments and does not return the QR decomposition in the returned tuple (although it returns other information about the problem).\n",
            "To get the qr decomposition consider using torch.linalg.qr.\n",
            "The returned solution in torch.lstsq stored the residuals of the solution in the last m - n columns of the returned value whenever m > n. In torch.linalg.lstsq, the residuals in the field 'residuals' of the returned named tuple.\n",
            "The unpacking of the solution, as in\n",
            "X, _ = torch.lstsq(B, A).solution[:A.size(1)]\n",
            "should be replaced with\n",
            "X = torch.linalg.lstsq(A, B).solution (Triggered internally at  /pytorch/aten/src/ATen/LegacyTHFunctionsCPU.cpp:389.)\n",
            "  res = torch.lstsq(b_matrix, a_matrix)[0]\n",
            "/usr/local/lib/python3.7/dist-packages/torchvision/transforms/functional.py:594: UserWarning: torch.lstsq is deprecated in favor of torch.linalg.lstsq and will be removed in a future PyTorch release.\n",
            "torch.linalg.lstsq has reversed arguments and does not return the QR decomposition in the returned tuple (although it returns other information about the problem).\n",
            "To get the qr decomposition consider using torch.linalg.qr.\n",
            "The returned solution in torch.lstsq stored the residuals of the solution in the last m - n columns of the returned value whenever m > n. In torch.linalg.lstsq, the residuals in the field 'residuals' of the returned named tuple.\n",
            "The unpacking of the solution, as in\n",
            "X, _ = torch.lstsq(B, A).solution[:A.size(1)]\n",
            "should be replaced with\n",
            "X = torch.linalg.lstsq(A, B).solution (Triggered internally at  /pytorch/aten/src/ATen/LegacyTHFunctionsCPU.cpp:389.)\n",
            "  res = torch.lstsq(b_matrix, a_matrix)[0]\n"
          ],
          "name": "stderr"
        },
        {
          "output_type": "stream",
          "text": [
            "\n",
            "\n",
            " Epoch: 7 loss:  0.11694206402257637  accuracy:  0.9592592592592593\n",
            "\rComputed: 8/10"
          ],
          "name": "stdout"
        },
        {
          "output_type": "stream",
          "text": [
            "/usr/local/lib/python3.7/dist-packages/torchvision/transforms/functional.py:594: UserWarning: torch.lstsq is deprecated in favor of torch.linalg.lstsq and will be removed in a future PyTorch release.\n",
            "torch.linalg.lstsq has reversed arguments and does not return the QR decomposition in the returned tuple (although it returns other information about the problem).\n",
            "To get the qr decomposition consider using torch.linalg.qr.\n",
            "The returned solution in torch.lstsq stored the residuals of the solution in the last m - n columns of the returned value whenever m > n. In torch.linalg.lstsq, the residuals in the field 'residuals' of the returned named tuple.\n",
            "The unpacking of the solution, as in\n",
            "X, _ = torch.lstsq(B, A).solution[:A.size(1)]\n",
            "should be replaced with\n",
            "X = torch.linalg.lstsq(A, B).solution (Triggered internally at  /pytorch/aten/src/ATen/LegacyTHFunctionsCPU.cpp:389.)\n",
            "  res = torch.lstsq(b_matrix, a_matrix)[0]\n",
            "/usr/local/lib/python3.7/dist-packages/torchvision/transforms/functional.py:594: UserWarning: torch.lstsq is deprecated in favor of torch.linalg.lstsq and will be removed in a future PyTorch release.\n",
            "torch.linalg.lstsq has reversed arguments and does not return the QR decomposition in the returned tuple (although it returns other information about the problem).\n",
            "To get the qr decomposition consider using torch.linalg.qr.\n",
            "The returned solution in torch.lstsq stored the residuals of the solution in the last m - n columns of the returned value whenever m > n. In torch.linalg.lstsq, the residuals in the field 'residuals' of the returned named tuple.\n",
            "The unpacking of the solution, as in\n",
            "X, _ = torch.lstsq(B, A).solution[:A.size(1)]\n",
            "should be replaced with\n",
            "X = torch.linalg.lstsq(A, B).solution (Triggered internally at  /pytorch/aten/src/ATen/LegacyTHFunctionsCPU.cpp:389.)\n",
            "  res = torch.lstsq(b_matrix, a_matrix)[0]\n"
          ],
          "name": "stderr"
        },
        {
          "output_type": "stream",
          "text": [
            "\n",
            "\n",
            " Epoch: 8 loss:  0.1103947072301382  accuracy:  0.9617283950617284\n",
            "\rComputed: 9/10"
          ],
          "name": "stdout"
        },
        {
          "output_type": "stream",
          "text": [
            "/usr/local/lib/python3.7/dist-packages/torchvision/transforms/functional.py:594: UserWarning: torch.lstsq is deprecated in favor of torch.linalg.lstsq and will be removed in a future PyTorch release.\n",
            "torch.linalg.lstsq has reversed arguments and does not return the QR decomposition in the returned tuple (although it returns other information about the problem).\n",
            "To get the qr decomposition consider using torch.linalg.qr.\n",
            "The returned solution in torch.lstsq stored the residuals of the solution in the last m - n columns of the returned value whenever m > n. In torch.linalg.lstsq, the residuals in the field 'residuals' of the returned named tuple.\n",
            "The unpacking of the solution, as in\n",
            "X, _ = torch.lstsq(B, A).solution[:A.size(1)]\n",
            "should be replaced with\n",
            "X = torch.linalg.lstsq(A, B).solution (Triggered internally at  /pytorch/aten/src/ATen/LegacyTHFunctionsCPU.cpp:389.)\n",
            "  res = torch.lstsq(b_matrix, a_matrix)[0]\n",
            "/usr/local/lib/python3.7/dist-packages/torchvision/transforms/functional.py:594: UserWarning: torch.lstsq is deprecated in favor of torch.linalg.lstsq and will be removed in a future PyTorch release.\n",
            "torch.linalg.lstsq has reversed arguments and does not return the QR decomposition in the returned tuple (although it returns other information about the problem).\n",
            "To get the qr decomposition consider using torch.linalg.qr.\n",
            "The returned solution in torch.lstsq stored the residuals of the solution in the last m - n columns of the returned value whenever m > n. In torch.linalg.lstsq, the residuals in the field 'residuals' of the returned named tuple.\n",
            "The unpacking of the solution, as in\n",
            "X, _ = torch.lstsq(B, A).solution[:A.size(1)]\n",
            "should be replaced with\n",
            "X = torch.linalg.lstsq(A, B).solution (Triggered internally at  /pytorch/aten/src/ATen/LegacyTHFunctionsCPU.cpp:389.)\n",
            "  res = torch.lstsq(b_matrix, a_matrix)[0]\n"
          ],
          "name": "stderr"
        },
        {
          "output_type": "stream",
          "text": [
            "\n",
            "\n",
            " Epoch: 9 loss:  0.12414078719821978  accuracy:  0.9592592592592593\n",
            "\rComputed: 10/10"
          ],
          "name": "stdout"
        },
        {
          "output_type": "stream",
          "text": [
            "/usr/local/lib/python3.7/dist-packages/torchvision/transforms/functional.py:594: UserWarning: torch.lstsq is deprecated in favor of torch.linalg.lstsq and will be removed in a future PyTorch release.\n",
            "torch.linalg.lstsq has reversed arguments and does not return the QR decomposition in the returned tuple (although it returns other information about the problem).\n",
            "To get the qr decomposition consider using torch.linalg.qr.\n",
            "The returned solution in torch.lstsq stored the residuals of the solution in the last m - n columns of the returned value whenever m > n. In torch.linalg.lstsq, the residuals in the field 'residuals' of the returned named tuple.\n",
            "The unpacking of the solution, as in\n",
            "X, _ = torch.lstsq(B, A).solution[:A.size(1)]\n",
            "should be replaced with\n",
            "X = torch.linalg.lstsq(A, B).solution (Triggered internally at  /pytorch/aten/src/ATen/LegacyTHFunctionsCPU.cpp:389.)\n",
            "  res = torch.lstsq(b_matrix, a_matrix)[0]\n",
            "/usr/local/lib/python3.7/dist-packages/torchvision/transforms/functional.py:594: UserWarning: torch.lstsq is deprecated in favor of torch.linalg.lstsq and will be removed in a future PyTorch release.\n",
            "torch.linalg.lstsq has reversed arguments and does not return the QR decomposition in the returned tuple (although it returns other information about the problem).\n",
            "To get the qr decomposition consider using torch.linalg.qr.\n",
            "The returned solution in torch.lstsq stored the residuals of the solution in the last m - n columns of the returned value whenever m > n. In torch.linalg.lstsq, the residuals in the field 'residuals' of the returned named tuple.\n",
            "The unpacking of the solution, as in\n",
            "X, _ = torch.lstsq(B, A).solution[:A.size(1)]\n",
            "should be replaced with\n",
            "X = torch.linalg.lstsq(A, B).solution (Triggered internally at  /pytorch/aten/src/ATen/LegacyTHFunctionsCPU.cpp:389.)\n",
            "  res = torch.lstsq(b_matrix, a_matrix)[0]\n"
          ],
          "name": "stderr"
        },
        {
          "output_type": "stream",
          "text": [
            "\n",
            "\n",
            " Epoch: 10 loss:  0.09338603238632649  accuracy:  0.9629629629629629\n",
            "\n",
            "Ended in:  54.415121495723724 minutes\n",
            "**** Start to calculate accuracy ...\n",
            "**** Accuracy of CCAlexNet_v2_lr=0.001 96.26%\n"
          ],
          "name": "stdout"
        }
      ]
    },
    {
      "cell_type": "markdown",
      "metadata": {
        "id": "olcqadnFDOo2"
      },
      "source": [
        "## Continuo training test 1 --- TODOOOOO"
      ]
    },
    {
      "cell_type": "markdown",
      "metadata": {
        "id": "VymuvukFEF6v"
      },
      "source": [
        "Prendo come riferimento il 25° e 50° del test su alexNet (primo test che è il migliore) e lo rialleno sul dataset con altre trasformazioni per indicativamente 10 iterazioni per vedere come va"
      ]
    },
    {
      "cell_type": "code",
      "metadata": {
        "id": "6YixT2N6DUAg"
      },
      "source": [
        "def continue_train(creator: PretrainedModelsCreator,\n",
        "                   path_model: str,\n",
        "                   dataset: TDContainer,\n",
        "                   output_class: int,\n",
        "                   model_name: str,\n",
        "                   batch_size: int,\n",
        "                   num_workers: int,\n",
        "                   drop_last: bool,\n",
        "                   lr: float,\n",
        "                   epochs: int,\n",
        "                  ) -> None:\n",
        "  \n",
        "  print('Instantiating %s' % (model_name))\n",
        "  creator.initialize_dst(dataset, output_class, batch_size=batch_size, num_workers=num_workers, drop_last=drop_last)\n",
        "\n",
        "  print('Loading model from %s' % (model_name))\n",
        "  creator.load_model(path_model)\n",
        "\n",
        "  print('*** Starting procedure ***')\n",
        "  model_finetuned = trainval_classifier(model=creator.model, dst_container=dataset, model_name=model_name,\n",
        "                                        lr=lr, epochs=epochs,\n",
        "                                        logdir=GENERAL_PATHS['logs'], model_dir=GENERAL_PATHS['models'], save_each_iter=5)\n",
        "  print(\"**** Start to calculate accuracy ...\")\n",
        "  model_finetuned_predictions_test, dataset_labels_test = test_classifier(model_finetuned, dataset.test_loader)\n",
        "  print(\"**** Accuracy of %s %0.2f%%\" % (model_name, accuracy_score(dataset_labels_test, model_finetuned_predictions_test)*100) )"
      ],
      "execution_count": null,
      "outputs": []
    },
    {
      "cell_type": "code",
      "metadata": {
        "id": "9L35WjwfG66d"
      },
      "source": [
        "mean_pretrained = [0.485, 0.456, 0.406]\n",
        "std_pretrained = [0.229, 0.224, 0.225]\n",
        "\n",
        "trashbin_dataset = import_dataset(GENERAL_PATHS['dataset'],\n",
        "                                  train_transform=transforms.Compose([\n",
        "                                    transforms.Resize(256),\n",
        "                                    transforms.AutoAugment(transforms.AutoAugmentPolicy.CIFAR10),\n",
        "                                    transforms.RandomCrop(224),\n",
        "                                    transforms.RandomHorizontalFlip(p=0.4),\n",
        "                                    transforms.RandomPerspective(p=0.3),\n",
        "                                    transforms.RandomVerticalFlip(p=0.4),\n",
        "                                    transforms.ToTensor(),\n",
        "                                    transforms.Normalize(mean_pretrained, std_pretrained)\n",
        "                                  ]),\n",
        "                                  test_transform=transforms.Compose([\n",
        "                                    transforms.Resize(256), \n",
        "                                    transforms.CenterCrop(224), # crop centrale\n",
        "                                    transforms.AutoAugment(transforms.AutoAugmentPolicy.IMAGENET),\n",
        "                                    transforms.RandomHorizontalFlip(),\n",
        "                                    transforms.ToTensor(),\n",
        "                                    transforms.Normalize(mean_pretrained, std_pretrained)\n",
        "                                    ]))"
      ],
      "execution_count": null,
      "outputs": []
    },
    {
      "cell_type": "markdown",
      "metadata": {
        "id": "OSAqEuYsIdcH"
      },
      "source": [
        "Test 25 epoche"
      ]
    },
    {
      "cell_type": "code",
      "metadata": {
        "id": "rfkh4lTyG9Kj"
      },
      "source": [
        "continue_train(\n",
        "              creator=CCAlexNet(),\n",
        "              path_model=join(GENERAL_PATHS['models'], 'CCAlexNet_lr=0.001-25.pth'\n",
        "              dataset=trashbin_dataset,\n",
        "              output_class=3,\n",
        "              model_name=get_model_name(\"CCAlexNet__test_A\", \"lr=0.001\"),\n",
        "              batch_size=64,\n",
        "              num_workers=2,\n",
        "              drop_last=False,\n",
        "              lr=0.001,\n",
        "              epochs=10\n",
        "              )"
      ],
      "execution_count": null,
      "outputs": []
    },
    {
      "cell_type": "markdown",
      "metadata": {
        "id": "8sWfOYwMIfjD"
      },
      "source": [
        "Test 50 epoche"
      ]
    },
    {
      "cell_type": "code",
      "metadata": {
        "id": "9LZyfSPYIiK0"
      },
      "source": [
        "continue_train(\n",
        "              creator=CCAlexNet(),\n",
        "              path_model=join(GENERAL_PATHS['models'], 'CCAlexNet_lr=0.001-50.pth'\n",
        "              dataset=trashbin_dataset,\n",
        "              output_class=3,\n",
        "              model_name=get_model_name(\"CCAlexNet__test_B\", \"lr=0.001\"),\n",
        "              batch_size=64,\n",
        "              num_workers=2,\n",
        "              drop_last=False,\n",
        "              lr=0.001,\n",
        "              epochs=10\n",
        "              )"
      ],
      "execution_count": null,
      "outputs": []
    }
  ]
}