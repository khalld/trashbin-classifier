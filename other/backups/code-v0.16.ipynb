{
  "nbformat": 4,
  "nbformat_minor": 2,
  "metadata": {
    "colab": {
      "name": "code-v0.16.ipynb",
      "provenance": [],
      "collapsed_sections": [
        "WYWIiSaM993x",
        "l4cMl3p7PI7L",
        "ruVKhvhePTpP",
        "9vCPd9H2PEkj",
        "G81wrGBg_SPb",
        "w7DV-5iP_DsC",
        "pMqRBDFo_KTD",
        "_DBk0D_y-8iE",
        "l4REKbedDqCE"
      ]
    },
    "kernelspec": {
      "name": "python3",
      "display_name": "Python 3"
    },
    "language_info": {
      "name": "python"
    },
    "accelerator": "GPU",
    "widgets": {
      "application/vnd.jupyter.widget-state+json": {
        "d3c1454d751e4588bd582b11d07aa7bd": {
          "model_module": "@jupyter-widgets/controls",
          "model_name": "HBoxModel",
          "state": {
            "_view_name": "HBoxView",
            "_dom_classes": [],
            "_model_name": "HBoxModel",
            "_view_module": "@jupyter-widgets/controls",
            "_model_module_version": "1.5.0",
            "_view_count": null,
            "_view_module_version": "1.5.0",
            "box_style": "",
            "layout": "IPY_MODEL_26bddc524aab41d68ac216f591075134",
            "_model_module": "@jupyter-widgets/controls",
            "children": [
              "IPY_MODEL_e90f18f6d13b4530a1af95778c2a05d1",
              "IPY_MODEL_f5cb0f99b98243a7a3b5c34cc542faef"
            ]
          }
        },
        "26bddc524aab41d68ac216f591075134": {
          "model_module": "@jupyter-widgets/base",
          "model_name": "LayoutModel",
          "state": {
            "_view_name": "LayoutView",
            "grid_template_rows": null,
            "right": null,
            "justify_content": null,
            "_view_module": "@jupyter-widgets/base",
            "overflow": null,
            "_model_module_version": "1.2.0",
            "_view_count": null,
            "flex_flow": null,
            "width": null,
            "min_width": null,
            "border": null,
            "align_items": null,
            "bottom": null,
            "_model_module": "@jupyter-widgets/base",
            "top": null,
            "grid_column": null,
            "overflow_y": null,
            "overflow_x": null,
            "grid_auto_flow": null,
            "grid_area": null,
            "grid_template_columns": null,
            "flex": null,
            "_model_name": "LayoutModel",
            "justify_items": null,
            "grid_row": null,
            "max_height": null,
            "align_content": null,
            "visibility": null,
            "align_self": null,
            "height": null,
            "min_height": null,
            "padding": null,
            "grid_auto_rows": null,
            "grid_gap": null,
            "max_width": null,
            "order": null,
            "_view_module_version": "1.2.0",
            "grid_template_areas": null,
            "object_position": null,
            "object_fit": null,
            "grid_auto_columns": null,
            "margin": null,
            "display": null,
            "left": null
          }
        },
        "e90f18f6d13b4530a1af95778c2a05d1": {
          "model_module": "@jupyter-widgets/controls",
          "model_name": "FloatProgressModel",
          "state": {
            "_view_name": "ProgressView",
            "style": "IPY_MODEL_b9d8839b06c9448fa1802ed0f98c235e",
            "_dom_classes": [],
            "description": "100%",
            "_model_name": "FloatProgressModel",
            "bar_style": "success",
            "max": 5010551,
            "_view_module": "@jupyter-widgets/controls",
            "_model_module_version": "1.5.0",
            "value": 5010551,
            "_view_count": null,
            "_view_module_version": "1.5.0",
            "orientation": "horizontal",
            "min": 0,
            "description_tooltip": null,
            "_model_module": "@jupyter-widgets/controls",
            "layout": "IPY_MODEL_fcab365fd51c4151890dc4b6a646632a"
          }
        },
        "f5cb0f99b98243a7a3b5c34cc542faef": {
          "model_module": "@jupyter-widgets/controls",
          "model_name": "HTMLModel",
          "state": {
            "_view_name": "HTMLView",
            "style": "IPY_MODEL_22bb1f5263af4c7186ce9d6bc5a23db5",
            "_dom_classes": [],
            "description": "",
            "_model_name": "HTMLModel",
            "placeholder": "​",
            "_view_module": "@jupyter-widgets/controls",
            "_model_module_version": "1.5.0",
            "value": " 4.78M/4.78M [00:00&lt;00:00, 8.39MB/s]",
            "_view_count": null,
            "_view_module_version": "1.5.0",
            "description_tooltip": null,
            "_model_module": "@jupyter-widgets/controls",
            "layout": "IPY_MODEL_381581c6d3564b7db7334da3f844e421"
          }
        },
        "b9d8839b06c9448fa1802ed0f98c235e": {
          "model_module": "@jupyter-widgets/controls",
          "model_name": "ProgressStyleModel",
          "state": {
            "_view_name": "StyleView",
            "_model_name": "ProgressStyleModel",
            "description_width": "initial",
            "_view_module": "@jupyter-widgets/base",
            "_model_module_version": "1.5.0",
            "_view_count": null,
            "_view_module_version": "1.2.0",
            "bar_color": null,
            "_model_module": "@jupyter-widgets/controls"
          }
        },
        "fcab365fd51c4151890dc4b6a646632a": {
          "model_module": "@jupyter-widgets/base",
          "model_name": "LayoutModel",
          "state": {
            "_view_name": "LayoutView",
            "grid_template_rows": null,
            "right": null,
            "justify_content": null,
            "_view_module": "@jupyter-widgets/base",
            "overflow": null,
            "_model_module_version": "1.2.0",
            "_view_count": null,
            "flex_flow": null,
            "width": null,
            "min_width": null,
            "border": null,
            "align_items": null,
            "bottom": null,
            "_model_module": "@jupyter-widgets/base",
            "top": null,
            "grid_column": null,
            "overflow_y": null,
            "overflow_x": null,
            "grid_auto_flow": null,
            "grid_area": null,
            "grid_template_columns": null,
            "flex": null,
            "_model_name": "LayoutModel",
            "justify_items": null,
            "grid_row": null,
            "max_height": null,
            "align_content": null,
            "visibility": null,
            "align_self": null,
            "height": null,
            "min_height": null,
            "padding": null,
            "grid_auto_rows": null,
            "grid_gap": null,
            "max_width": null,
            "order": null,
            "_view_module_version": "1.2.0",
            "grid_template_areas": null,
            "object_position": null,
            "object_fit": null,
            "grid_auto_columns": null,
            "margin": null,
            "display": null,
            "left": null
          }
        },
        "22bb1f5263af4c7186ce9d6bc5a23db5": {
          "model_module": "@jupyter-widgets/controls",
          "model_name": "DescriptionStyleModel",
          "state": {
            "_view_name": "StyleView",
            "_model_name": "DescriptionStyleModel",
            "description_width": "",
            "_view_module": "@jupyter-widgets/base",
            "_model_module_version": "1.5.0",
            "_view_count": null,
            "_view_module_version": "1.2.0",
            "_model_module": "@jupyter-widgets/controls"
          }
        },
        "381581c6d3564b7db7334da3f844e421": {
          "model_module": "@jupyter-widgets/base",
          "model_name": "LayoutModel",
          "state": {
            "_view_name": "LayoutView",
            "grid_template_rows": null,
            "right": null,
            "justify_content": null,
            "_view_module": "@jupyter-widgets/base",
            "overflow": null,
            "_model_module_version": "1.2.0",
            "_view_count": null,
            "flex_flow": null,
            "width": null,
            "min_width": null,
            "border": null,
            "align_items": null,
            "bottom": null,
            "_model_module": "@jupyter-widgets/base",
            "top": null,
            "grid_column": null,
            "overflow_y": null,
            "overflow_x": null,
            "grid_auto_flow": null,
            "grid_area": null,
            "grid_template_columns": null,
            "flex": null,
            "_model_name": "LayoutModel",
            "justify_items": null,
            "grid_row": null,
            "max_height": null,
            "align_content": null,
            "visibility": null,
            "align_self": null,
            "height": null,
            "min_height": null,
            "padding": null,
            "grid_auto_rows": null,
            "grid_gap": null,
            "max_width": null,
            "order": null,
            "_view_module_version": "1.2.0",
            "grid_template_areas": null,
            "object_position": null,
            "object_fit": null,
            "grid_auto_columns": null,
            "margin": null,
            "display": null,
            "left": null
          }
        }
      }
    }
  },
  "cells": [
    {
      "cell_type": "markdown",
      "source": [
        "# Libs"
      ],
      "metadata": {
        "id": "WYWIiSaM993x"
      }
    },
    {
      "cell_type": "code",
      "execution_count": 1,
      "source": [
        "import numpy as np\n",
        "from os.path import join\n",
        "import random\n",
        "from torchvision import transforms"
      ],
      "outputs": [],
      "metadata": {
        "id": "cOFChPb2-UWU"
      }
    },
    {
      "cell_type": "code",
      "execution_count": null,
      "source": [
        "GDRIVE_PATHS = {\n",
        "    'main': '/content/gdrive/MyDrive/trashbean-classifier/',\n",
        "    'dataset': '/content/gdrive/MyDrive/trashbean-classifier/dataset/',\n",
        "    'logs': '/content/gdrive/MyDrive/trashbean-classifier/logs/',\n",
        "    'models': '/content/gdrive/MyDrive/trashbean-classifier/logs/models/',\n",
        "    'libs': '/content/gdrive/MyDrive/Colab Notebooks/Progetto/libs'\n",
        "}"
      ],
      "outputs": [],
      "metadata": {
        "id": "vPjQxZEVZ0NS"
      }
    },
    {
      "cell_type": "code",
      "execution_count": null,
      "source": [
        "from google.colab import drive\n",
        "drive.mount('/content/gdrive')"
      ],
      "outputs": [],
      "metadata": {
        "id": "y6IOsUFSZx4R"
      }
    },
    {
      "cell_type": "code",
      "execution_count": null,
      "source": [
        "# Insert the directory\n",
        "import sys\n",
        "sys.path.insert(0,GDRIVE_PATHS['libs'])"
      ],
      "outputs": [],
      "metadata": {
        "id": "aAt8Hx0MZuny"
      }
    },
    {
      "cell_type": "code",
      "execution_count": 6,
      "source": [
        "# need do import only concreteCreator\n",
        "from TrashbeanDataset import TrashbeanDataset\n",
        "from TDContainer import TDContainer\n",
        "from PretrainedModels import AverageValueMeter, PretrainedModelsCreator, CCAlexNet, CCSqueezeNet, CCVgg16"
      ],
      "outputs": [],
      "metadata": {
        "id": "0IHRDORhFka9"
      }
    },
    {
      "cell_type": "code",
      "execution_count": 3,
      "source": [
        "random.seed(1996)\n",
        "np.random.seed(1996)"
      ],
      "outputs": [],
      "metadata": {
        "id": "8uJCjt-bCiLK"
      }
    },
    {
      "cell_type": "markdown",
      "source": [
        "# Testing"
      ],
      "metadata": {
        "id": "BE7PzgB2-FZr"
      }
    },
    {
      "cell_type": "markdown",
      "source": [
        "## Load del dataset"
      ],
      "metadata": {
        "id": "l4REKbedDqCE"
      }
    },
    {
      "cell_type": "code",
      "execution_count": 7,
      "source": [
        "train_transform = transforms.Compose([\n",
        "  transforms.Resize(256),\n",
        "  transforms.RandomCrop(224),\n",
        "  transforms.RandomHorizontalFlip(),\n",
        "  transforms.ToTensor(),\n",
        "  transforms.Normalize([0.485, 0.456, 0.406], [0.229, 0.224, 0.225])\n",
        "])\n",
        "\n",
        "test_transform = transforms.Compose([\n",
        "  transforms.Resize(256),\n",
        "  transforms.CenterCrop(224), # crop centrale\n",
        "  transforms.RandomHorizontalFlip(),\n",
        "  transforms.ToTensor(),\n",
        "  transforms.Normalize([0.485, 0.456, 0.406], [0.229, 0.224, 0.225])\n",
        "])\n",
        "\n",
        "dst_train = {\n",
        "  'path': join(GDRIVE_PATHS['dataset'], 'training.csv'),\n",
        "  'transform': train_transform\n",
        "}\n",
        "\n",
        "dst_validation = {\n",
        "  'path': join(GDRIVE_PATHS['dataset'], 'validation.csv'),\n",
        "  'transform': test_transform\n",
        "}\n",
        "\n",
        "dst_test = {\n",
        "  'path': join(GDRIVE_PATHS['dataset'], 'test.csv'),\n",
        "  'transform': test_transform\n",
        "}\n",
        "\n",
        "trashbean_dataset = TDContainer(training=dst_train, validation=dst_validation, test=dst_test)"
      ],
      "outputs": [],
      "metadata": {
        "id": "qZUOQci8-oJP"
      }
    },
    {
      "cell_type": "code",
      "execution_count": null,
      "source": [
        "trashbean_dataset.show_info()"
      ],
      "outputs": [],
      "metadata": {
        "colab": {
          "base_uri": "https://localhost:8080/"
        },
        "id": "hnXfrTYYDe4O",
        "outputId": "f3e7635a-071e-4e8c-d3af-9fc9fb5dbdc7"
      }
    },
    {
      "cell_type": "markdown",
      "source": [
        "## Training"
      ],
      "metadata": {
        "id": "SoJ_xvOiD2sZ"
      }
    },
    {
      "cell_type": "code",
      "execution_count": 9,
      "source": [
        "def do_training(creator: PretrainedModelsCreator, model_name: str=\"default_model\", dataset: TDContainer, output_class: int=3) -> None:\n",
        "    creator.initialize_dst(dataset, output_class, batch_size=32, num_workers=2, drop_last=False)\n",
        "    creator.train(model_name=model_name, lr=0.01, epochs=2, momemtum=0.99, log_dir=GDRIVE_PATHS['logs'], model_dir=GDRIVE_PATHS['models'], train_from_epoch=0, save_on_runtime=False, save_each_iter=1)"
      ],
      "outputs": [],
      "metadata": {
        "id": "Qz2I0BjU-G-0"
      }
    },
    {
      "cell_type": "code",
      "execution_count": null,
      "source": [
        "# using the Concrete Creator\n",
        "print(\"App: Launching training with the SqueezeNet.\")\n",
        "do_training(creator=CCSqueezeNet(), model_name=\"SQUEEZENET_v0.1\", dataset=trashbean_dataset, output_class=3)"
      ],
      "outputs": [],
      "metadata": {
        "id": "qP6R6K6hEbWk",
        "colab": {
          "base_uri": "https://localhost:8080/",
          "height": 185,
          "referenced_widgets": [
            "d3c1454d751e4588bd582b11d07aa7bd",
            "26bddc524aab41d68ac216f591075134",
            "e90f18f6d13b4530a1af95778c2a05d1",
            "f5cb0f99b98243a7a3b5c34cc542faef",
            "b9d8839b06c9448fa1802ed0f98c235e",
            "fcab365fd51c4151890dc4b6a646632a",
            "22bb1f5263af4c7186ce9d6bc5a23db5",
            "381581c6d3564b7db7334da3f844e421"
          ]
        },
        "outputId": "1433933f-28e5-41f7-a76e-eca4392360a2"
      }
    },
    {
      "cell_type": "code",
      "execution_count": null,
      "source": [
        "print(\"App: Launching training with the AlexNet\")\n",
        "do_training(creator=CCAlexNet(), model_name=\"ALEXNET_v0.1\", dataset=trashbean_dataset, output_class=3)"
      ],
      "outputs": [],
      "metadata": {}
    },
    {
      "cell_type": "code",
      "execution_count": null,
      "source": [
        "print(\"App: Launching training with the VGG16\")\n",
        "do_training(creator=CCVgg16(), model_name=\"VGG16_v0.1\", dataset=trashbean_dataset, output_class=3)"
      ],
      "outputs": [],
      "metadata": {}
    },
    {
      "cell_type": "code",
      "execution_count": null,
      "source": [
        "### do loading...."
      ],
      "outputs": [],
      "metadata": {}
    },
    {
      "cell_type": "code",
      "execution_count": 15,
      "source": [
        "def make_model_name(path_model, name_model, version):\n",
        "  return join(path_model, \"%s__%s.pth\" % (name_model, version))\n",
        "\n",
        "name_model = 'SqueezeNet'\n",
        "version=\"1-0\"\n",
        "print(make_model_path(GDRIVE_PATHS['models'], \"SqueezeNet\", \"v0-999\"))"
      ],
      "outputs": [],
      "metadata": {
        "id": "gqM-TEk8arVR"
      }
    }
  ]
}