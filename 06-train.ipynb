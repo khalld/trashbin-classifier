{
 "cells": [
  {
   "cell_type": "markdown",
   "source": [
    "# Import libs"
   ],
   "metadata": {}
  },
  {
   "cell_type": "code",
   "execution_count": null,
   "source": [
    "import random\n",
    "import numpy as np\n",
    "import matplotlib.pyplot as plt\n",
    "\n",
    "from torchvision import transforms\n",
    "from torch.nn import ModuleList\n",
    "\n",
    "# custom libs\n",
    "from libs.TDContainer import TDContainer\n",
    "from libs.PretrainedModels import PretrainedModelsCreator, AlexNet_cc, SqueezeNet_cc, InceptionV3_cc\n",
    "from libs.utils import get_model_name, import_dataset"
   ],
   "outputs": [],
   "metadata": {}
  },
  {
   "cell_type": "code",
   "execution_count": null,
   "source": [
    "random.seed(1996)\n",
    "np.random.seed(1996)"
   ],
   "outputs": [],
   "metadata": {}
  },
  {
   "cell_type": "markdown",
   "source": [
    "# Prepare dataset"
   ],
   "metadata": {}
  },
  {
   "cell_type": "code",
   "execution_count": null,
   "source": [
    "path_dst = 'dataset'\n",
    "path_gdrive = ''\n",
    "\n",
    "# parameters for dataloaders\n",
    "batch_size=32\n",
    "num_workers=2\n",
    "drop_last=True"
   ],
   "outputs": [],
   "metadata": {}
  },
  {
   "cell_type": "code",
   "execution_count": null,
   "source": [
    "# default mean and std needed by pretrained models from pytorch\n",
    "mean = [0.485, 0.456, 0.406]\n",
    "std = [0.229, 0.224, 0.225]\n",
    "\n",
    "dst = import_dataset(path_dst=path_dst, \n",
    "    train_transform=transforms.Compose([\n",
    "        transforms.Resize(256),\n",
    "        # using the same as the test because the trash bin is centered in the image\n",
    "        transforms.CenterCrop(224), # good for inceptionv3?\n",
    "\n",
    "        transforms.RandomApply(ModuleList([\n",
    "            transforms.Pad(padding=5, fill=0, padding_mode='constant'),\n",
    "        ]), p=0.3),        \n",
    "\n",
    "        transforms.RandomApply(ModuleList([\n",
    "            transforms.ColorJitter(brightness=.6, hue=.4),\n",
    "        ]), p=0.3),\n",
    "\n",
    "        transforms.RandomApply(ModuleList([\n",
    "            transforms.Grayscale(num_output_channels=3),\n",
    "        ]), p=0.2),\n",
    "\n",
    "        transforms.RandomHorizontalFlip(p=0.3),\n",
    "        transforms.RandomPerspective(distortion_scale=0.5, p=0.4),\n",
    "        transforms.RandomEqualize(p=0.4),\n",
    "        transforms.RandomAffine(degrees=(20, 50), translate=(0.2, 0.5), scale=(0.6, 0.75)),\n",
    "        transforms.ToTensor(),\n",
    "        transforms.Normalize(mean=mean, std=std)\n",
    "    ]),\n",
    "    test_transform=transforms.Compose([\n",
    "        transforms.Resize(256), \n",
    "        transforms.CenterCrop(224), # good for inceptionv3?\n",
    "        transforms.AutoAugmentPolicy(policy=transforms.AutoAugmentPolicy.SVHN),\n",
    "        transforms.ToTensor(),\n",
    "        transforms.Normalize(mean=mean, std=std)\n",
    "    ]), path_gdrive=path_gdrive)\n",
    "\n",
    "dst.create_data_loader(batch_size=batch_size, num_workers=num_workers, drop_last=drop_last)"
   ],
   "outputs": [],
   "metadata": {}
  },
  {
   "cell_type": "code",
   "execution_count": null,
   "source": [
    "train_features, train_labels = next(iter(dst.training_loader))\n",
    "print(f\"Feature batch shape: {train_features.size()}\")\n",
    "print(f\"Labels batch shape: {train_labels.size()}\")\n",
    "\n",
    "plt.figure(figsize=(15,8))\n",
    "for i in range(5):\n",
    "    plt.subplot(2,5,i+1)\n",
    "    plt.title(\"Class: %s\" % train_labels[0].numpy())\n",
    "    img = train_features[0].squeeze()\n",
    "    label = train_labels[0]\n",
    "    plt.imshow( np.transpose(img.numpy().astype(np.uint8), (1, 2, 0) ) )\n",
    "    train_features, train_labels = next(iter(dst.training_loader))\n",
    "plt.show()"
   ],
   "outputs": [],
   "metadata": {}
  },
  {
   "cell_type": "markdown",
   "source": [
    "# Find best LR"
   ],
   "metadata": {}
  },
  {
   "cell_type": "markdown",
   "source": [
    "# Training"
   ],
   "metadata": {}
  }
 ],
 "metadata": {
  "orig_nbformat": 4,
  "language_info": {
   "name": "python",
   "version": "3.9.5"
  },
  "kernelspec": {
   "name": "python3",
   "display_name": "Python 3.9.5 64-bit"
  },
  "interpreter": {
   "hash": "aee8b7b246df8f9039afb4144a1f6fd8d2ca17a180786b69acc140d282b71a49"
  }
 },
 "nbformat": 4,
 "nbformat_minor": 2
}