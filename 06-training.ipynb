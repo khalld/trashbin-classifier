{
 "cells": [
  {
   "cell_type": "code",
   "execution_count": 1,
   "source": [
    "import random\n",
    "import numpy as np\n",
    "import matplotlib.pyplot as plt\n",
    "\n",
    "import torch\n",
    "from torchvision import transforms\n",
    "from torch.nn import ModuleList\n",
    "from torch import nn\n",
    "import torch.optim as optim\n",
    "\n",
    "# custom libs\n",
    "from libs.PretrainedModels import AlexNet_cc, SqueezeNet_cc, InceptionV3_cc\n",
    "from libs.utils import get_model_name, import_dataset, init_model"
   ],
   "outputs": [],
   "metadata": {}
  },
  {
   "cell_type": "code",
   "execution_count": 2,
   "source": [
    "random.seed(1996)\n",
    "np.random.seed(1996)"
   ],
   "outputs": [],
   "metadata": {}
  },
  {
   "cell_type": "markdown",
   "source": [
    "## Dataset and dataLoaders"
   ],
   "metadata": {}
  },
  {
   "cell_type": "code",
   "execution_count": 4,
   "source": [
    "path_dst = 'dataset'\n",
    "path_gdrive = ''\n",
    "\n",
    "# parameters for dataloaders\n",
    "batch_size=32\n",
    "num_workers=2\n",
    "drop_last=True\n",
    "\n",
    "# default mean and std needed by pretrained models from pytorch\n",
    "mean = [0.485, 0.456, 0.406]\n",
    "std = [0.229, 0.224, 0.225]"
   ],
   "outputs": [],
   "metadata": {}
  },
  {
   "cell_type": "code",
   "execution_count": 5,
   "source": [
    "dst = import_dataset(path_dst=path_dst, \n",
    "    train_transform=transforms.Compose([\n",
    "        transforms.Resize(256),\n",
    "        # using the same as the test because the trash bin is centered in the image\n",
    "        transforms.CenterCrop(224), # good for inceptionv3?\n",
    "        transforms.RandomApply(ModuleList([\n",
    "            transforms.ColorJitter(brightness=.3, hue=.2),\n",
    "        ]), p=0.3),\n",
    "\n",
    "        transforms.RandomApply(ModuleList([\n",
    "            transforms.Grayscale(num_output_channels=3),\n",
    "        ]), p=0.2),\n",
    "\n",
    "        transforms.RandomHorizontalFlip(p=0.3),\n",
    "        transforms.RandomPerspective(distortion_scale=0.3, p=0.2),\n",
    "        transforms.RandomEqualize(p=0.2),\n",
    "        transforms.ToTensor(),\n",
    "        transforms.Normalize(mean=mean, std=std)\n",
    "    ]),\n",
    "    test_transform=transforms.Compose([\n",
    "        transforms.Resize(256), \n",
    "        transforms.CenterCrop(224), # good for inceptionv3?\n",
    "        transforms.AutoAugment(transforms.AutoAugmentPolicy.SVHN),\n",
    "        transforms.ToTensor(),\n",
    "        transforms.Normalize(mean=mean, std=std)\n",
    "    ]), path_gdrive=path_gdrive)\n",
    "\n",
    "dst.create_data_loader(batch_size=batch_size, num_workers=num_workers, drop_last=drop_last)\n",
    "\n",
    "dst_inceptionv3 = import_dataset(path_dst=path_dst, \n",
    "    train_transform=transforms.Compose([\n",
    "        transforms.Resize(320),\n",
    "        # using the same as the test because the trash bin is centered in the image\n",
    "        transforms.CenterCrop(299), # good for inceptionv3?\n",
    "        transforms.RandomApply(ModuleList([\n",
    "            transforms.ColorJitter(brightness=.3, hue=.2),\n",
    "        ]), p=0.3),\n",
    "\n",
    "        transforms.RandomApply(ModuleList([\n",
    "            transforms.Grayscale(num_output_channels=3),\n",
    "        ]), p=0.2),\n",
    "\n",
    "        transforms.RandomHorizontalFlip(p=0.3),\n",
    "        transforms.RandomPerspective(distortion_scale=0.3, p=0.2),\n",
    "        transforms.RandomEqualize(p=0.2),\n",
    "        transforms.ToTensor(),\n",
    "        transforms.Normalize(mean=mean, std=std)\n",
    "    ]),\n",
    "    test_transform=transforms.Compose([\n",
    "        transforms.Resize(320), \n",
    "        transforms.CenterCrop(299), # good for inceptionv3?\n",
    "        transforms.AutoAugment(transforms.AutoAugmentPolicy.SVHN),\n",
    "        transforms.ToTensor(),\n",
    "        transforms.Normalize(mean=mean, std=std)\n",
    "    ]), path_gdrive=path_gdrive)\n",
    "\n",
    "dst_inceptionv3.create_data_loader(batch_size=batch_size, num_workers=num_workers, drop_last=drop_last)"
   ],
   "outputs": [],
   "metadata": {}
  },
  {
   "cell_type": "markdown",
   "source": [
    "## Training"
   ],
   "metadata": {}
  },
  {
   "cell_type": "code",
   "execution_count": 6,
   "source": [
    "num_epochs = 150\n",
    "\n",
    "learning_rates = {\n",
    "    'alexnet': 0.002,\n",
    "    'squeezenet': 0.00191,\n",
    "    'inceptionv3': ''\n",
    "}\n",
    "\n",
    "momentum = 0.9\n",
    "criterion = nn.CrossEntropyLoss()"
   ],
   "outputs": [],
   "metadata": {}
  },
  {
   "cell_type": "markdown",
   "source": [
    "## AlexNet"
   ],
   "metadata": {}
  },
  {
   "cell_type": "code",
   "execution_count": 7,
   "source": [
    "train_from_epoch = 0\n",
    "save_each_iter = 10\n",
    "resume_global_step_from = 0"
   ],
   "outputs": [],
   "metadata": {}
  },
  {
   "cell_type": "code",
   "execution_count": 8,
   "source": [
    "alexnet = init_model(creator=AlexNet_cc(), model_name=get_model_name(model_name='AlexNet', lr=str(learning_rates['alexnet'])), feature_extract=True, use_pretrained=True)\n",
    "trained_model = alexnet.do_train(dataset=dst, num_epochs=num_epochs, lr=learning_rates['alexnet'], momentum=momentum, criterion=criterion, train_from_epoch=train_from_epoch, save_each_iter=save_each_iter, resume_global_step_from=resume_global_step_from)"
   ],
   "outputs": [
    {
     "output_type": "stream",
     "name": "stdout",
     "text": [
      "Initializing: AlexNet__lr=0.002\n",
      "Feature extracting\n",
      "INFO:tensorflow:Enabling eager execution\n",
      "INFO:tensorflow:Enabling v2 tensorshape\n",
      "INFO:tensorflow:Enabling resource variables\n",
      "INFO:tensorflow:Enabling tensor equality\n",
      "INFO:tensorflow:Enabling control flow v2\n",
      "Epoch 0/149\n",
      "----------\n",
      "validation Loss: 0.3584 Acc: 0.8869\n",
      "Epoch 1/149\n",
      "----------\n",
      "validation Loss: 0.3446 Acc: 0.9018\n",
      "Epoch 2/149\n",
      "----------\n",
      "validation Loss: 0.3153 Acc: 0.9077\n",
      "Epoch 3/149\n",
      "----------\n"
     ]
    }
   ],
   "metadata": {}
  },
  {
   "cell_type": "markdown",
   "source": [
    "## SqueezeNet"
   ],
   "metadata": {}
  },
  {
   "cell_type": "code",
   "execution_count": null,
   "source": [
    "squeezenet = init_model(creator=SqueezeNet_cc(), model_name=get_model_name(model_name='SqueezeNet', lr=str(learning_rates['squeezenet'])), feature_extract=True, use_pretrained=True)\n",
    "trained_model, history = squeezenet.do_train(dataset=dst, num_epochs=num_epochs, lr=learning_rates['squeezenet'], momentum=momentum, criterion=criterion, train_from_epoch=train_from_epoch, save_each_iter=save_each_iter, resume_global_step_from=resume_global_step_from)"
   ],
   "outputs": [],
   "metadata": {}
  },
  {
   "cell_type": "markdown",
   "source": [
    "## InceptionV3"
   ],
   "metadata": {}
  },
  {
   "cell_type": "code",
   "execution_count": null,
   "source": [
    "inception_v3 = init_model(creator=InceptionV3_cc(), model_name=get_model_name(model_name='InceptionV3', lr=str(learning_rates['inceptionv3'])), feature_extract=True, use_pretrained=True)\n",
    "trained_model, history = inception_v3.do_train(dataset=dst_inceptionv3, num_epochs=num_epochs, lr=learning_rates['inceptionv3'], momentum=momentum, criterion=criterion)"
   ],
   "outputs": [],
   "metadata": {}
  }
 ],
 "metadata": {
  "orig_nbformat": 4,
  "language_info": {
   "name": "python",
   "version": "3.9.5",
   "mimetype": "text/x-python",
   "codemirror_mode": {
    "name": "ipython",
    "version": 3
   },
   "pygments_lexer": "ipython3",
   "nbconvert_exporter": "python",
   "file_extension": ".py"
  },
  "kernelspec": {
   "name": "python3",
   "display_name": "Python 3.9.5 64-bit"
  },
  "interpreter": {
   "hash": "aee8b7b246df8f9039afb4144a1f6fd8d2ca17a180786b69acc140d282b71a49"
  }
 },
 "nbformat": 4,
 "nbformat_minor": 2
}