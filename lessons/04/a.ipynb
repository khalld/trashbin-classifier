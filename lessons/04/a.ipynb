{
 "metadata": {
  "language_info": {
   "codemirror_mode": {
    "name": "ipython",
    "version": 3
   },
   "file_extension": ".py",
   "mimetype": "text/x-python",
   "name": "python",
   "nbconvert_exporter": "python",
   "pygments_lexer": "ipython3",
   "version": 3
  },
  "orig_nbformat": 2
 },
 "nbformat": 4,
 "nbformat_minor": 2,
 "cells": [
  {
   "cell_type": "code",
   "execution_count": null,
   "metadata": {},
   "outputs": [],
   "source": [
    "import torch\n",
    "import numpy as np\n",
    "from torch import nn"
   ]
  },
  {
   "cell_type": "code",
   "execution_count": null,
   "metadata": {},
   "outputs": [],
   "source": [
    "np.random.seed(1328)\n",
    "torch.random.manual_seed(1328)"
   ]
  },
  {
   "cell_type": "code",
   "execution_count": null,
   "metadata": {},
   "outputs": [],
   "source": [
    "class LeNet(nn.Module):\n",
    "    def __init__(self):\n",
    "        super(LeNet, self).__init__()\n",
    "        # Definiamo il prio livello. Necessaria convoluzione 2D (ovvero su immagini)\n",
    "        # Utilizziamo Conv2 che prende in input\n",
    "        # - il numero di canali di input: 1 (img a scala di grigi)\n",
    "        # - il numero di canali in output: 6 (mappe di feature)\n",
    "        # - la dimensione del kernel 5 (sta per \"5x5\")\n",
    "        self.C1 = nn.Conv2d(1, 6, 5)\n",
    "        # Definiamo il livello di subsampling. Questo viene implementanto usando il modulo \"AvgPool2d\"\n",
    "        # Il modulo richiede in input la dimensione dei neighborhood rispetto ai quali calcolare\n",
    "        # i valori medi: 2\n",
    "        self.S2 = nn.AvgPool2d(2)\n",
    "        # Definiamo il livello C3 in maniera analoga a quanto fatto per C1:\n",
    "        self.C3 = nn.Conv2d(6, 16, 5)\n",
    "        # Definiamo il successivo max pooling 2d\n",
    "        self.S4 = nn.AvgPool12d(2)\n",
    "        #Definiamo il primo layer FC\n",
    "        self.F5 = nn.Linear(256, 120) #Definiamo il secondo layer FC\n",
    "        self.F6 = nn.Linear(120, 84)\n",
    "        #Definiamo il terzo layer FC\n",
    "        self.F7 = nn.Linear(84, 10)\n",
    "        #Definiamo inoltre un modulo per calcolare l'attivazione ReLU\n",
    "        self.activation = nn.Tanh()\n",
    "\n"
   ]
  }
 ]
}