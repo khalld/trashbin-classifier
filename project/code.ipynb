{
 "metadata": {
  "language_info": {
   "codemirror_mode": {
    "name": "ipython",
    "version": 3
   },
   "file_extension": ".py",
   "mimetype": "text/x-python",
   "name": "python",
   "nbconvert_exporter": "python",
   "pygments_lexer": "ipython3",
   "version": "3.9.2-final"
  },
  "orig_nbformat": 2,
  "kernelspec": {
   "name": "python392jvsc74a57bd0aee8b7b246df8f9039afb4144a1f6fd8d2ca17a180786b69acc140d282b71a49",
   "display_name": "Python 3.9.2 64-bit"
  },
  "metadata": {
   "interpreter": {
    "hash": "aee8b7b246df8f9039afb4144a1f6fd8d2ca17a180786b69acc140d282b71a49"
   }
  }
 },
 "nbformat": 4,
 "nbformat_minor": 2,
 "cells": [
  {
   "cell_type": "code",
   "execution_count": 1,
   "metadata": {},
   "outputs": [],
   "source": [
    "import torch\n",
    "from torch.utils.data.dataset import Dataset\n",
    "from PIL import Image\n",
    "from os import path\n",
    "from torchvision import transforms\n",
    "import numpy as np"
   ]
  },
  {
   "source": [
    "# First test implementation\n",
    "\n",
    "## Costruction of dataset\n",
    "\n",
    "- `all_labels.txt`: All image's labels of all entire dataset\n",
    "- `classes.txt`: classes\n",
    "- `test.txt`: test dataset\n",
    "- `test.txt`: train dataset "
   ],
   "cell_type": "markdown",
   "metadata": {}
  },
  {
   "cell_type": "code",
   "execution_count": 8,
   "metadata": {},
   "outputs": [],
   "source": [
    "class TrashbeanDataset(Dataset):\n",
    "    def __init__(self, base_path, txt_list, transform=None):\n",
    "        IMG_CHANNEL = 3\n",
    "\n",
    "        self.txt_list = txt_list ## utile per la normalizzazione\n",
    "\n",
    "        self.base_path = base_path\n",
    "        self.images = np.loadtxt(txt_list, dtype=str, delimiter=',')\n",
    "        self.mean = np.zeros(IMG_CHANNEL)\n",
    "        self.dev_std = np.zeros(IMG_CHANNEL)\n",
    "\n",
    "        self.transform = transform\n",
    "\n",
    "    def __getitem__(self, index):\n",
    "        f,c = self.images[index] # recuperiamo il path dell'immagine di indice index e la relativa etichetta\n",
    "        im = Image.open(path.join(self.base_path, f))   ## load img with PIL\n",
    "\n",
    "        if self.transform is not None:          ## toTensor, resize, normalize etc...\n",
    "            im = self.transform(im)\n",
    "\n",
    "        label = int(c) # converto l'etichetta in intero\n",
    "\n",
    "        return {'image': im, 'label': label}    # return dictionary --> immagine : etichetta\n",
    "\n",
    "    def _bef_normalize(self):\n",
    "        for sample in self:\n",
    "            self.mean += sample['image'].sum(1).sum(1).numpy() ## accumulo somma dei pixel canale per canale\n",
    "\n",
    "        self.mean = self.mean / ( len(self)*256*256 )\n",
    "\n",
    "        for sample in self:\n",
    "            self.dev_std += ( ( sample['image'] - torch.Tensor(self.mean).view(3,1,1) )**2).sum(1).sum(1).numpy()\n",
    "\n",
    "        self.dev_std = np.sqrt(self.dev_std/(len(self)*256*256))\n",
    "\n",
    "    # restituisce numero di campioni: la lunghezza della lista images\n",
    "    def __len__(self):\n",
    "        return len(self.images)"
   ]
  },
  {
   "cell_type": "code",
   "execution_count": 9,
   "metadata": {
    "tags": []
   },
   "outputs": [
    {
     "output_type": "stream",
     "name": "stdout",
     "text": [
      "shape first img loaded: torch.Size([3, 1920, 1080])\n",
      "before calculated [0. 0. 0.] [0. 0. 0.]\n",
      "after calculated [16.55578594 15.55018628 14.82821083] [90.19166519 84.71409267 80.78255968]\n",
      "shape first img after normalization: torch.Size([53100]) -1\n"
     ]
    }
   ],
   "source": [
    "\n",
    "# transforms.Resize the input image to the given size. If the image is torch Tensor, it is expected to have […, H, W] shape, where … means an arbitrary number of leading dimensions\n",
    "\n",
    "dataset_train = TrashbeanDataset('static/datasets/img', 'static/datasets/train.txt', transform=transforms.ToTensor()) # can put (w,h) too\n",
    "# dataset_test\n",
    "\n",
    "# print(sample['image'].shape, sample['label'])\n",
    "print(\"shape first img loaded:\", dataset_train[0]['image'].shape)\n",
    "# print(dataset__.__getitem__(0))\n",
    "# print(dataset_train[0]['image'].shape)\n",
    "\n",
    "print(\"before calculated\", dataset_train.mean, dataset_train.dev_std)\n",
    "\n",
    "## calcolo media e dev std con il dataset \"puro\" senza trasformazioni su immagini\n",
    "dataset_train._bef_normalize()\n",
    "\n",
    "print(\"after calculated\", dataset_train.mean, dataset_train.dev_std)\n",
    "\n",
    "m = dataset_train.mean\n",
    "s = dataset_train.dev_std\n",
    "\n",
    "img_dim = 100   ## can be (h,w), see documentation\n",
    "\n",
    "transform_normalization = transforms.Compose([  transforms.Resize(img_dim),     ## resize image\n",
    "                                                transforms.ToTensor(),\n",
    "                                                ## without the apply of these 2 function u can see the difference between normalizated and not\n",
    "                                                transforms.Normalize(m,s), ## normalize with mean and dev std\n",
    "                                                torch.flatten   ## normalize with lambda function\n",
    "                                            ])\n",
    "\n",
    "dataset_train = TrashbeanDataset('static/datasets/img', 'static/datasets/train.txt', transform=transform_normalization) # can put (w,h) too\n",
    "\n",
    "print(\"shape first img after normalization:\", dataset_train[0]['image'].shape, dataset_train[0]['label'])\n",
    "\n"
   ]
  },
  {
   "cell_type": "code",
   "execution_count": null,
   "metadata": {},
   "outputs": [],
   "source": []
  }
 ]
}