{
 "metadata": {
  "language_info": {
   "codemirror_mode": {
    "name": "ipython",
    "version": 3
   },
   "file_extension": ".py",
   "mimetype": "text/x-python",
   "name": "python",
   "nbconvert_exporter": "python",
   "pygments_lexer": "ipython3",
   "version": "3.9.2"
  },
  "orig_nbformat": 2,
  "kernelspec": {
   "name": "python392jvsc74a57bd0aee8b7b246df8f9039afb4144a1f6fd8d2ca17a180786b69acc140d282b71a49",
   "display_name": "Python 3.9.2 64-bit"
  },
  "metadata": {
   "interpreter": {
    "hash": "aee8b7b246df8f9039afb4144a1f6fd8d2ca17a180786b69acc140d282b71a49"
   }
  }
 },
 "nbformat": 4,
 "nbformat_minor": 2,
 "cells": [
  {
   "cell_type": "code",
   "execution_count": 2,
   "metadata": {},
   "outputs": [],
   "source": [
    "import torch\n",
    "from torch.utils.data.dataset import Dataset\n",
    "from PIL import Image\n",
    "from os import path\n",
    "from torchvision import transforms\n",
    "import numpy as np"
   ]
  },
  {
   "source": [
    "# First test implementation\n",
    "\n",
    "## Costruction of dataset\n",
    "\n",
    "- `all_labels.txt`: All image's labels of all entire dataset\n",
    "- `classes.txt`: classes\n",
    "- `test.txt`: test dataset\n",
    "- `test.txt`: train dataset "
   ],
   "cell_type": "markdown",
   "metadata": {}
  },
  {
   "cell_type": "code",
   "execution_count": 3,
   "metadata": {},
   "outputs": [],
   "source": [
    "class TrashbeanDataset(Dataset):\n",
    "    def __init__(self, base_path, txt_list, transform_dim=None):\n",
    "\n",
    "        self.base_path = base_path\n",
    "        self.images = np.loadtxt(txt_list, dtype=str, delimiter=',')\n",
    "\n",
    "        # transforms.Resize the input image to the given size. If the image is torch Tensor, it is expected to             have […, H, W] shape, where … means an arbitrary number of leading dimensions\n",
    "        self.transform = transforms.Compose([transforms.Resize(transform_dim), transforms.ToTensor()])\n",
    "\n",
    "    def __getitem__(self, index):\n",
    "        # recuperiamo il path dell'immagine di indice index e la relativa etichetta\n",
    "        f,c = self.images[index]\n",
    "\n",
    "        # carichiamo l'immagine utilizzando PIL\n",
    "        im = Image.open(path.join(self.base_path, f))\n",
    "\n",
    "        # se la trasformazione è definita, applichiamola all'immagine\n",
    "        if self.transform is not None:\n",
    "            im = self.transform(im)\n",
    "\n",
    "        # converto l'etichetta in intero\n",
    "        label = int(c)\n",
    "\n",
    "        #restituisco un dizionario contenente immagine etichetta\n",
    "        return {'image': im, 'label': label}\n",
    "\n",
    "    # restituisce numero di campioni: la linghezza della lista images\n",
    "    def __len__(self):\n",
    "        return len(self.images)"
   ]
  },
  {
   "cell_type": "code",
   "execution_count": 4,
   "metadata": {},
   "outputs": [
    {
     "output_type": "stream",
     "name": "stdout",
     "text": [
      "torch.Size([3, 177, 100])\n"
     ]
    }
   ],
   "source": [
    "dataset_train = TrashbeanDataset('static/datasets/img', 'static/datasets/train.txt', transform_dim=100) # can put (w,h) too\n",
    "\n",
    "# dataset_test\n",
    "\n",
    "sample = dataset_train[7]\n",
    "# print(sample['image'].shape, sample['label'])\n",
    "# print(dataset__.__len__())\n",
    "# print(dataset__.__getitem__(0))\n",
    "\n",
    "print(dataset_train[0]['image'].shape)\n"
   ]
  },
  {
   "cell_type": "code",
   "execution_count": null,
   "metadata": {},
   "outputs": [],
   "source": []
  }
 ]
}