{
  "nbformat": 4,
  "nbformat_minor": 0,
  "metadata": {
    "colab": {
      "name": "code-v0.16.ipynb",
      "provenance": [],
      "collapsed_sections": [
        "WYWIiSaM993x",
        "l4cMl3p7PI7L",
        "ruVKhvhePTpP",
        "9vCPd9H2PEkj",
        "G81wrGBg_SPb",
        "w7DV-5iP_DsC",
        "pMqRBDFo_KTD",
        "_DBk0D_y-8iE",
        "l4REKbedDqCE"
      ]
    },
    "kernelspec": {
      "name": "python3",
      "display_name": "Python 3"
    },
    "language_info": {
      "name": "python"
    },
    "accelerator": "GPU",
    "widgets": {
      "application/vnd.jupyter.widget-state+json": {
        "d3c1454d751e4588bd582b11d07aa7bd": {
          "model_module": "@jupyter-widgets/controls",
          "model_name": "HBoxModel",
          "state": {
            "_view_name": "HBoxView",
            "_dom_classes": [],
            "_model_name": "HBoxModel",
            "_view_module": "@jupyter-widgets/controls",
            "_model_module_version": "1.5.0",
            "_view_count": null,
            "_view_module_version": "1.5.0",
            "box_style": "",
            "layout": "IPY_MODEL_26bddc524aab41d68ac216f591075134",
            "_model_module": "@jupyter-widgets/controls",
            "children": [
              "IPY_MODEL_e90f18f6d13b4530a1af95778c2a05d1",
              "IPY_MODEL_f5cb0f99b98243a7a3b5c34cc542faef"
            ]
          }
        },
        "26bddc524aab41d68ac216f591075134": {
          "model_module": "@jupyter-widgets/base",
          "model_name": "LayoutModel",
          "state": {
            "_view_name": "LayoutView",
            "grid_template_rows": null,
            "right": null,
            "justify_content": null,
            "_view_module": "@jupyter-widgets/base",
            "overflow": null,
            "_model_module_version": "1.2.0",
            "_view_count": null,
            "flex_flow": null,
            "width": null,
            "min_width": null,
            "border": null,
            "align_items": null,
            "bottom": null,
            "_model_module": "@jupyter-widgets/base",
            "top": null,
            "grid_column": null,
            "overflow_y": null,
            "overflow_x": null,
            "grid_auto_flow": null,
            "grid_area": null,
            "grid_template_columns": null,
            "flex": null,
            "_model_name": "LayoutModel",
            "justify_items": null,
            "grid_row": null,
            "max_height": null,
            "align_content": null,
            "visibility": null,
            "align_self": null,
            "height": null,
            "min_height": null,
            "padding": null,
            "grid_auto_rows": null,
            "grid_gap": null,
            "max_width": null,
            "order": null,
            "_view_module_version": "1.2.0",
            "grid_template_areas": null,
            "object_position": null,
            "object_fit": null,
            "grid_auto_columns": null,
            "margin": null,
            "display": null,
            "left": null
          }
        },
        "e90f18f6d13b4530a1af95778c2a05d1": {
          "model_module": "@jupyter-widgets/controls",
          "model_name": "FloatProgressModel",
          "state": {
            "_view_name": "ProgressView",
            "style": "IPY_MODEL_b9d8839b06c9448fa1802ed0f98c235e",
            "_dom_classes": [],
            "description": "100%",
            "_model_name": "FloatProgressModel",
            "bar_style": "success",
            "max": 5010551,
            "_view_module": "@jupyter-widgets/controls",
            "_model_module_version": "1.5.0",
            "value": 5010551,
            "_view_count": null,
            "_view_module_version": "1.5.0",
            "orientation": "horizontal",
            "min": 0,
            "description_tooltip": null,
            "_model_module": "@jupyter-widgets/controls",
            "layout": "IPY_MODEL_fcab365fd51c4151890dc4b6a646632a"
          }
        },
        "f5cb0f99b98243a7a3b5c34cc542faef": {
          "model_module": "@jupyter-widgets/controls",
          "model_name": "HTMLModel",
          "state": {
            "_view_name": "HTMLView",
            "style": "IPY_MODEL_22bb1f5263af4c7186ce9d6bc5a23db5",
            "_dom_classes": [],
            "description": "",
            "_model_name": "HTMLModel",
            "placeholder": "​",
            "_view_module": "@jupyter-widgets/controls",
            "_model_module_version": "1.5.0",
            "value": " 4.78M/4.78M [00:00&lt;00:00, 8.39MB/s]",
            "_view_count": null,
            "_view_module_version": "1.5.0",
            "description_tooltip": null,
            "_model_module": "@jupyter-widgets/controls",
            "layout": "IPY_MODEL_381581c6d3564b7db7334da3f844e421"
          }
        },
        "b9d8839b06c9448fa1802ed0f98c235e": {
          "model_module": "@jupyter-widgets/controls",
          "model_name": "ProgressStyleModel",
          "state": {
            "_view_name": "StyleView",
            "_model_name": "ProgressStyleModel",
            "description_width": "initial",
            "_view_module": "@jupyter-widgets/base",
            "_model_module_version": "1.5.0",
            "_view_count": null,
            "_view_module_version": "1.2.0",
            "bar_color": null,
            "_model_module": "@jupyter-widgets/controls"
          }
        },
        "fcab365fd51c4151890dc4b6a646632a": {
          "model_module": "@jupyter-widgets/base",
          "model_name": "LayoutModel",
          "state": {
            "_view_name": "LayoutView",
            "grid_template_rows": null,
            "right": null,
            "justify_content": null,
            "_view_module": "@jupyter-widgets/base",
            "overflow": null,
            "_model_module_version": "1.2.0",
            "_view_count": null,
            "flex_flow": null,
            "width": null,
            "min_width": null,
            "border": null,
            "align_items": null,
            "bottom": null,
            "_model_module": "@jupyter-widgets/base",
            "top": null,
            "grid_column": null,
            "overflow_y": null,
            "overflow_x": null,
            "grid_auto_flow": null,
            "grid_area": null,
            "grid_template_columns": null,
            "flex": null,
            "_model_name": "LayoutModel",
            "justify_items": null,
            "grid_row": null,
            "max_height": null,
            "align_content": null,
            "visibility": null,
            "align_self": null,
            "height": null,
            "min_height": null,
            "padding": null,
            "grid_auto_rows": null,
            "grid_gap": null,
            "max_width": null,
            "order": null,
            "_view_module_version": "1.2.0",
            "grid_template_areas": null,
            "object_position": null,
            "object_fit": null,
            "grid_auto_columns": null,
            "margin": null,
            "display": null,
            "left": null
          }
        },
        "22bb1f5263af4c7186ce9d6bc5a23db5": {
          "model_module": "@jupyter-widgets/controls",
          "model_name": "DescriptionStyleModel",
          "state": {
            "_view_name": "StyleView",
            "_model_name": "DescriptionStyleModel",
            "description_width": "",
            "_view_module": "@jupyter-widgets/base",
            "_model_module_version": "1.5.0",
            "_view_count": null,
            "_view_module_version": "1.2.0",
            "_model_module": "@jupyter-widgets/controls"
          }
        },
        "381581c6d3564b7db7334da3f844e421": {
          "model_module": "@jupyter-widgets/base",
          "model_name": "LayoutModel",
          "state": {
            "_view_name": "LayoutView",
            "grid_template_rows": null,
            "right": null,
            "justify_content": null,
            "_view_module": "@jupyter-widgets/base",
            "overflow": null,
            "_model_module_version": "1.2.0",
            "_view_count": null,
            "flex_flow": null,
            "width": null,
            "min_width": null,
            "border": null,
            "align_items": null,
            "bottom": null,
            "_model_module": "@jupyter-widgets/base",
            "top": null,
            "grid_column": null,
            "overflow_y": null,
            "overflow_x": null,
            "grid_auto_flow": null,
            "grid_area": null,
            "grid_template_columns": null,
            "flex": null,
            "_model_name": "LayoutModel",
            "justify_items": null,
            "grid_row": null,
            "max_height": null,
            "align_content": null,
            "visibility": null,
            "align_self": null,
            "height": null,
            "min_height": null,
            "padding": null,
            "grid_auto_rows": null,
            "grid_gap": null,
            "max_width": null,
            "order": null,
            "_view_module_version": "1.2.0",
            "grid_template_areas": null,
            "object_position": null,
            "object_fit": null,
            "grid_auto_columns": null,
            "margin": null,
            "display": null,
            "left": null
          }
        }
      }
    }
  },
  "cells": [
    {
      "cell_type": "markdown",
      "metadata": {
        "id": "WYWIiSaM993x"
      },
      "source": [
        "# Libs"
      ]
    },
    {
      "cell_type": "code",
      "metadata": {
        "id": "cOFChPb2-UWU"
      },
      "source": [
        "import numpy as np\n",
        "import pandas as pd\n",
        "from PIL import Image\n",
        "from os.path import join\n",
        "import random\n",
        "import zipfile\n",
        "\n",
        "from torchvision import transforms"
      ],
      "execution_count": 1,
      "outputs": []
    },
    {
      "cell_type": "code",
      "metadata": {
        "id": "vPjQxZEVZ0NS"
      },
      "source": [
        "GDRIVE_PATHS = {\n",
        "    'main': '/content/gdrive/MyDrive/trashbean-classifier/',\n",
        "    'dataset': '/content/gdrive/MyDrive/trashbean-classifier/dataset/',\n",
        "    'logs': '/content/gdrive/MyDrive/trashbean-classifier/logs/',\n",
        "    'models': '/content/gdrive/MyDrive/trashbean-classifier/logs/models/',\n",
        "    'libs': '/content/gdrive/MyDrive/Colab Notebooks/Progetto/libs'\n",
        "}"
      ],
      "execution_count": null,
      "outputs": []
    },
    {
      "cell_type": "code",
      "metadata": {
        "id": "y6IOsUFSZx4R"
      },
      "source": [
        "from google.colab import drive\n",
        "drive.mount('/content/gdrive')"
      ],
      "execution_count": null,
      "outputs": []
    },
    {
      "cell_type": "code",
      "metadata": {
        "id": "aAt8Hx0MZuny"
      },
      "source": [
        "# Insert the directory\n",
        "import sys\n",
        "sys.path.insert(0,GDRIVE_PATHS['libs'])"
      ],
      "execution_count": null,
      "outputs": []
    },
    {
      "cell_type": "code",
      "metadata": {
        "id": "0IHRDORhFka9"
      },
      "source": [
        "# need do import only concreteCreator\n",
        "from TrashbeanDataset import TrashbeanDataset\n",
        "from TDContainer import TDContainer\n",
        "from PretrainedModels import AverageValueMeter, PretrainedModelsCreator, CCAlexNet, CCSqueezeNet, CCVgg16"
      ],
      "execution_count": 6,
      "outputs": []
    },
    {
      "cell_type": "code",
      "metadata": {
        "id": "8uJCjt-bCiLK"
      },
      "source": [
        "random.seed(1996)\n",
        "np.random.seed(1996)"
      ],
      "execution_count": 3,
      "outputs": []
    },
    {
      "cell_type": "markdown",
      "metadata": {
        "id": "BE7PzgB2-FZr"
      },
      "source": [
        "# Testing"
      ]
    },
    {
      "cell_type": "markdown",
      "metadata": {
        "id": "l4REKbedDqCE"
      },
      "source": [
        "## Load del dataset"
      ]
    },
    {
      "cell_type": "code",
      "metadata": {
        "id": "qZUOQci8-oJP"
      },
      "source": [
        "train_transform = transforms.Compose([\n",
        "  transforms.Resize(256),\n",
        "  transforms.RandomCrop(224),\n",
        "  transforms.RandomHorizontalFlip(),\n",
        "  transforms.ToTensor(),\n",
        "  transforms.Normalize([0.485, 0.456, 0.406], [0.229, 0.224, 0.225])\n",
        "])\n",
        "\n",
        "test_transform = transforms.Compose([\n",
        "  transforms.Resize(256),\n",
        "  transforms.CenterCrop(224), # crop centrale\n",
        "  transforms.RandomHorizontalFlip(),\n",
        "  transforms.ToTensor(),\n",
        "  transforms.Normalize([0.485, 0.456, 0.406], [0.229, 0.224, 0.225])\n",
        "])\n",
        "\n",
        "trashbean_dataset = TDContainer({\n",
        "  'path': join(GDRIVE_PATHS['dataset'], 'training.csv'),\n",
        "  'transform': train_transform\n",
        "},{\n",
        "  'path': join(GDRIVE_PATHS['dataset'], 'validation.csv'),\n",
        "  'transform': test_transform\n",
        "}, {\n",
        "    'path': join(GDRIVE_PATHS['dataset'], 'test.csv'),\n",
        "    'transform': test_transform\n",
        "})"
      ],
      "execution_count": 7,
      "outputs": []
    },
    {
      "cell_type": "code",
      "metadata": {
        "colab": {
          "base_uri": "https://localhost:8080/"
        },
        "id": "hnXfrTYYDe4O",
        "outputId": "f3e7635a-071e-4e8c-d3af-9fc9fb5dbdc7"
      },
      "source": [
        "trashbean_dataset.show_info()"
      ],
      "execution_count": 8,
      "outputs": [
        {
          "output_type": "stream",
          "text": [
            "\n",
            "=== *** DB INFO *** ===\n",
            "Training: 900 values, \n",
            "Validation: 900 values, \n",
            "Test: 900\n",
            "DataLoader: False\n",
            "=== *** END *** ====\n",
            "\n"
          ],
          "name": "stdout"
        }
      ]
    },
    {
      "cell_type": "markdown",
      "metadata": {
        "id": "SoJ_xvOiD2sZ"
      },
      "source": [
        "## Training"
      ]
    },
    {
      "cell_type": "code",
      "metadata": {
        "id": "Qz2I0BjU-G-0"
      },
      "source": [
        "def do_training(creator: PretrainedModelsCreator, dataset: TDContainer, output_class: int, dl_attributes: dict, parameters: dict, paths: dict, train_from_epoch: int=0, save_on_runtime: bool=True, save_each_iter:int=20 ) -> None:\n",
        "    creator.initialize_dst(dataset, output_class, dl_attributes)\n",
        "    creator.train(parameters=parameters, paths=paths, train_from_epoch=train_from_epoch, save_on_runtime=save_on_runtime, save_each_iter=save_each_iter)"
      ],
      "execution_count": 9,
      "outputs": []
    },
    {
      "cell_type": "code",
      "metadata": {
        "id": "ahgXhqe39Nv7"
      },
      "source": [
        "def do_loading(loaded_model, creator: PretrainedModelsCreator, dataset: TDContainer, output_class: int, dl_attributes: dict, parameters: dict, paths: dict, train_from_epoch: int=0, save_on_runtime: bool=True, save_each_iter:int=20 ) -> None:\n",
        "  creator.initialize_dst(dataset, output_class, dl_attributes)\n",
        "  creator.load_model(loaded_model)\n",
        "  creator.train(parameters=parameters, paths=paths, train_from_epoch=train_from_epoch, save_on_runtime=save_on_runtime, save_each_iter=save_each_iter)"
      ],
      "execution_count": 21,
      "outputs": []
    },
    {
      "cell_type": "code",
      "metadata": {
        "id": "qP6R6K6hEbWk",
        "colab": {
          "base_uri": "https://localhost:8080/",
          "height": 185,
          "referenced_widgets": [
            "d3c1454d751e4588bd582b11d07aa7bd",
            "26bddc524aab41d68ac216f591075134",
            "e90f18f6d13b4530a1af95778c2a05d1",
            "f5cb0f99b98243a7a3b5c34cc542faef",
            "b9d8839b06c9448fa1802ed0f98c235e",
            "fcab365fd51c4151890dc4b6a646632a",
            "22bb1f5263af4c7186ce9d6bc5a23db5",
            "381581c6d3564b7db7334da3f844e421"
          ]
        },
        "outputId": "1433933f-28e5-41f7-a76e-eca4392360a2"
      },
      "source": [
        "# using the Concrete Creator\n",
        "print(\"App: Launching training with the SqueezeNet.\")\n",
        "do_training(creator=CCSqueezeNet(), dataset=trashbean_dataset, output_class=3, dl_attributes={'batch_size': 32, 'num_workers': 2, 'drop_last': False}, parameters={'exp_name': 'SqueezeNet__v1', 'lr': 0.001, 'epochs': 1, 'momentum': 0.99 }, paths=GDRIVE_PATHS, train_from_epoch=0, save_on_runtime=True, save_each_iter=1)"
      ],
      "execution_count": 17,
      "outputs": [
        {
          "output_type": "stream",
          "text": [
            "App: Launching training with the SqueezeNet.\n"
          ],
          "name": "stdout"
        },
        {
          "output_type": "stream",
          "text": [
            "Downloading: \"https://download.pytorch.org/models/squeezenet1_0-b66bff10.pth\" to /root/.cache/torch/hub/checkpoints/squeezenet1_0-b66bff10.pth\n"
          ],
          "name": "stderr"
        },
        {
          "output_type": "display_data",
          "data": {
            "application/vnd.jupyter.widget-view+json": {
              "model_id": "d3c1454d751e4588bd582b11d07aa7bd",
              "version_minor": 0,
              "version_major": 2
            },
            "text/plain": [
              "HBox(children=(FloatProgress(value=0.0, max=5010551.0), HTML(value='')))"
            ]
          },
          "metadata": {
            "tags": []
          }
        },
        {
          "output_type": "stream",
          "text": [
            "\n",
            "Computing epoch:\n",
            "1 / 1 ... \n",
            "Ended in:  1.0570414582888286 minutes\n",
            "**** Training procedure ended. Start to calculate accuracy ...\n",
            "Accuracy of SqueezeNet__v1 62.00%\n"
          ],
          "name": "stdout"
        }
      ]
    },
    {
      "cell_type": "code",
      "metadata": {
        "colab": {
          "base_uri": "https://localhost:8080/"
        },
        "id": "Ypm3ryG-9qyC",
        "outputId": "8d6a9877-f5ff-4b77-c40a-3ea750bfff47"
      },
      "source": [
        "print(\"App: Reloading training with the SqueezeNet.\")\n",
        "do_loading('/content/gdrive/MyDrive/trashbean-classifier/logs/models/SqueezeNet__v1-1.pth', creator=CCSqueezeNet(), dataset=trashbean_dataset, output_class=3, dl_attributes={'batch_size': 32, 'num_workers': 2, 'drop_last': False}, parameters={'exp_name': 'SqueezeNet__v1', 'lr': 0.001, 'epochs': 1, 'momentum': 0.99 }, paths=GDRIVE_PATHS, train_from_epoch=1, save_on_runtime=True, save_each_iter=1)\n"
      ],
      "execution_count": 22,
      "outputs": [
        {
          "output_type": "stream",
          "text": [
            "App: Reloading training with the SqueezeNet.\n",
            "Loading model using load_state_dict..\n",
            "Computing epoch:\n",
            "1 / 1 ... \n",
            "Ended in:  1.0565665721893311 minutes\n",
            "**** Training procedure ended. Start to calculate accuracy ...\n",
            "Accuracy of SqueezeNet__v1 33.33%\n"
          ],
          "name": "stdout"
        }
      ]
    },
    {
      "cell_type": "code",
      "metadata": {
        "id": "gqM-TEk8arVR"
      },
      "source": [
        "def make_model_path(path_model, name_model, version):\n",
        "  return join(path_model, \"%s__%s.pth\" % (name_model, version))\n",
        "\n",
        "name_model = 'SqueezeNet'\n",
        "version=\"1-0\"\n",
        "print(make_model_path(GDRIVE_PATHS['models'], \"SqueezeNet\", \"v0-999\"))"
      ],
      "execution_count": 15,
      "outputs": []
    }
  ]
}